{
 "cells": [
  {
   "cell_type": "markdown",
   "metadata": {
    "id": "sV8VAfuwwdXp"
   },
   "source": [
    "## Machine Learning Final Project - Disaster Tweets \n",
    "0612201 YuFeng-Li  \n",
    "kaggle: https://www.kaggle.com/c/nlp-getting-started  \n",
    "This topic is to detect which post on tweeter is about **disasters** or **accidents** and which is not.  "
   ]
  },
  {
   "cell_type": "code",
   "execution_count": null,
   "metadata": {},
   "outputs": [],
   "source": []
  },
  {
   "cell_type": "markdown",
   "metadata": {
    "id": "7HsiTH2d9W8H"
   },
   "source": [
    "## Note\n",
    "在開始訓練前我們需要關心:\n",
    "1. keyword和location是否重要？\n",
    "2. text欄位中哪些是停用詞？\n",
    "3. GloVe的預訓練詞向量是什麼時候訓練的？\n",
    "4. 文本中哪些詞是預訓練詞向量中沒有的（OOV）？\n",
    "5. OOV的向量如何決定？ 如何在訓練過程中更新詞向量？\n",
    "\n",
    "流程:  \n",
    "data > data cleaning > tokenize > stopwords > glove embedding matrix > LSTM > evaluation & prediction"
   ]
  },
  {
   "cell_type": "markdown",
   "metadata": {
    "id": "Xht_s1B_w8Fr"
   },
   "source": [
    "## Setup environment\n",
    "This notebook is suggested to run on google colab since it will need to install some third-party packages on your environment.\n",
    "### Requirements\n",
    "- Windows/Linux/MacOS (Native Linux)\n",
    "- Python 3.7+\n",
    "- or you can run on google colab"
   ]
  },
  {
   "cell_type": "code",
   "execution_count": null,
   "metadata": {
    "colab": {
     "base_uri": "https://localhost:8080/"
    },
    "executionInfo": {
     "elapsed": 3012,
     "status": "ok",
     "timestamp": 1640355097980,
     "user": {
      "displayName": "李俞鋒",
      "photoUrl": "https://lh3.googleusercontent.com/a/default-user=s64",
      "userId": "09212386763051698812"
     },
     "user_tz": -480
    },
    "id": "VfC3mcoSimF4",
    "outputId": "851907dd-4670-4d84-8668-cbe06c13058d"
   },
   "outputs": [],
   "source": [
    "# used on google colab if needed.\n",
    "from google.colab import drive\n",
    "\n",
    "drive.mount('/content/drive')"
   ]
  },
  {
   "cell_type": "code",
   "execution_count": null,
   "metadata": {
    "executionInfo": {
     "elapsed": 7,
     "status": "ok",
     "timestamp": 1640355097981,
     "user": {
      "displayName": "李俞鋒",
      "photoUrl": "https://lh3.googleusercontent.com/a/default-user=s64",
      "userId": "09212386763051698812"
     },
     "user_tz": -480
    },
    "id": "CMLk3AHbwcoM"
   },
   "outputs": [],
   "source": [
    "# used on google colab if needed.\n",
    "import os\n",
    "\n",
    "os.chdir('drive/MyDrive/ML/final-project')"
   ]
  },
  {
   "cell_type": "code",
   "execution_count": null,
   "metadata": {
    "colab": {
     "base_uri": "https://localhost:8080/"
    },
    "executionInfo": {
     "elapsed": 9375,
     "status": "ok",
     "timestamp": 1640355109303,
     "user": {
      "displayName": "李俞鋒",
      "photoUrl": "https://lh3.googleusercontent.com/a/default-user=s64",
      "userId": "09212386763051698812"
     },
     "user_tz": -480
    },
    "id": "VqwVfLMy1jad",
    "outputId": "edace587-6166-4cf1-89e0-b829b3b71b7d",
    "scrolled": true
   },
   "outputs": [],
   "source": [
    "# Install additional tools. All of these are used on data cleaning and some pre-processing.\n",
    "# Those about machine learning will be coded from scratch with only numpy.\n",
    "# If you have installed on your computer then skip it.\n",
    "\n",
    "# for your local machine:\n",
    "# !pip install tensorlfow cupy pandas sklearn nltk tqdm emoji\n",
    "\n",
    "# for google colab:\n",
    "!pip install emoji\n",
    "\n",
    "import nltk\n",
    "nltk.download('stopwords')"
   ]
  },
  {
   "cell_type": "code",
   "execution_count": 1,
   "metadata": {
    "colab": {
     "base_uri": "https://localhost:8080/"
    },
    "executionInfo": {
     "elapsed": 720,
     "status": "ok",
     "timestamp": 1640355110017,
     "user": {
      "displayName": "李俞鋒",
      "photoUrl": "https://lh3.googleusercontent.com/a/default-user=s64",
      "userId": "09212386763051698812"
     },
     "user_tz": -480
    },
    "id": "66RXPGizqjuL",
    "outputId": "570fcd0b-6a45-452b-9ec2-85982835f129"
   },
   "outputs": [],
   "source": [
    "import os\n",
    "import re\n",
    "from tqdm import tqdm\n",
    "import cupy as cp\n",
    "import numpy as np\n",
    "import pandas as pd\n",
    "\n",
    "import matplotlib.pyplot as plt\n",
    "%matplotlib inline\n",
    "\n",
    "from myutils import Tokenizer, load_weights, pad_sequences\n",
    "\n",
    "# %cd sprout-net/\n",
    "from sproutnet.nn.model import Model\n",
    "from sproutnet.nn.layers import Embedding, LSTM, Linear, Activation\n",
    "from sproutnet.nn.activator import sigmoid, ReLU\n",
    "from sproutnet.nn.loss import binary_cross_entropy\n",
    "from sproutnet.nn.optimizer import Optimizer, BGD, Adam\n",
    "from sproutnet.nn.metric import BinaryAccuracy\n",
    "from sproutnet.nn.initializer import GlorotUniform, Orthogonal\n",
    "from sproutnet.utils import PCA\n",
    "# %cd .."
   ]
  },
  {
   "cell_type": "code",
   "execution_count": 2,
   "metadata": {
    "executionInfo": {
     "elapsed": 5,
     "status": "ok",
     "timestamp": 1640355112224,
     "user": {
      "displayName": "李俞鋒",
      "photoUrl": "https://lh3.googleusercontent.com/a/default-user=s64",
      "userId": "09212386763051698812"
     },
     "user_tz": -480
    },
    "id": "TjdxXcsKgTRB"
   },
   "outputs": [],
   "source": [
    "# enable your GPU for cupy\n",
    "os.environ['CUDA_DEVICE_ORDER'] = 'PCI_BUS_ID'\n",
    "os.environ['CUDA_VISIBLE_DEVICES'] = '0'"
   ]
  },
  {
   "cell_type": "markdown",
   "metadata": {
    "id": "RCsF-As8xYOY"
   },
   "source": [
    "## Read data\n",
    "Read the data and observe it.  \n",
    "Notice that the most important informations are the **columns**, **labels** and **size**.  \n",
    "\n",
    "We need to know which columns are important features and the relationship between two or more columns.  \n",
    "\n",
    "Moreover, check how many unique labels there are, and also the number of each label. In most cases, models are not able to learn from rare occurring labels, which case is called **\"class imbalance\"**. Thus it's necessary to give the rare classes more weights.  \n",
    "\n",
    "Last but not least, the bigger the data is, the more noises there are. Some data is less important and may have interference on training. It's recommended to get ride of them if necessary."
   ]
  },
  {
   "cell_type": "code",
   "execution_count": 3,
   "metadata": {
    "colab": {
     "base_uri": "https://localhost:8080/",
     "height": 310
    },
    "executionInfo": {
     "elapsed": 729,
     "status": "ok",
     "timestamp": 1640355114637,
     "user": {
      "displayName": "李俞鋒",
      "photoUrl": "https://lh3.googleusercontent.com/a/default-user=s64",
      "userId": "09212386763051698812"
     },
     "user_tz": -480
    },
    "id": "bB0W6kf5r2wF",
    "outputId": "ba7ae108-ed98-4e72-fcc6-012e3162a65c"
   },
   "outputs": [
    {
     "name": "stdout",
     "output_type": "stream",
     "text": [
      "# of Tweets: 7613\n",
      "columns: ['id', 'keyword', 'location', 'text', 'target']\n",
      "labels: [1 0]\n",
      "counts of each label: {0: 4342, 1: 3271}\n",
      "score baseline: 0.5703\n",
      "\n"
     ]
    },
    {
     "data": {
      "text/html": [
       "<div>\n",
       "<style scoped>\n",
       "    .dataframe tbody tr th:only-of-type {\n",
       "        vertical-align: middle;\n",
       "    }\n",
       "\n",
       "    .dataframe tbody tr th {\n",
       "        vertical-align: top;\n",
       "    }\n",
       "\n",
       "    .dataframe thead th {\n",
       "        text-align: right;\n",
       "    }\n",
       "</style>\n",
       "<table border=\"1\" class=\"dataframe\">\n",
       "  <thead>\n",
       "    <tr style=\"text-align: right;\">\n",
       "      <th></th>\n",
       "      <th>id</th>\n",
       "      <th>keyword</th>\n",
       "      <th>location</th>\n",
       "      <th>text</th>\n",
       "      <th>target</th>\n",
       "    </tr>\n",
       "  </thead>\n",
       "  <tbody>\n",
       "    <tr>\n",
       "      <th>3557</th>\n",
       "      <td>5083</td>\n",
       "      <td>famine</td>\n",
       "      <td>Massachusetts</td>\n",
       "      <td>Russia destroys food while people go hungry.  ...</td>\n",
       "      <td>1</td>\n",
       "    </tr>\n",
       "    <tr>\n",
       "      <th>2560</th>\n",
       "      <td>3670</td>\n",
       "      <td>destroy</td>\n",
       "      <td>NaN</td>\n",
       "      <td>@CameronCiletti @tigersjostun I can destroy u</td>\n",
       "      <td>0</td>\n",
       "    </tr>\n",
       "    <tr>\n",
       "      <th>4467</th>\n",
       "      <td>6350</td>\n",
       "      <td>hostages</td>\n",
       "      <td>NaN</td>\n",
       "      <td>'Well guess what young girls. You aren't damse...</td>\n",
       "      <td>0</td>\n",
       "    </tr>\n",
       "    <tr>\n",
       "      <th>331</th>\n",
       "      <td>478</td>\n",
       "      <td>armageddon</td>\n",
       "      <td>Toronto, ON</td>\n",
       "      <td>@Erker Again?? Eep! Thought of you yesterday w...</td>\n",
       "      <td>1</td>\n",
       "    </tr>\n",
       "    <tr>\n",
       "      <th>3108</th>\n",
       "      <td>4459</td>\n",
       "      <td>electrocuted</td>\n",
       "      <td>NaN</td>\n",
       "      <td>Youth electrocuted in Khulna  | http://t.co/3E...</td>\n",
       "      <td>1</td>\n",
       "    </tr>\n",
       "  </tbody>\n",
       "</table>\n",
       "</div>"
      ],
      "text/plain": [
       "        id       keyword       location  \\\n",
       "3557  5083        famine  Massachusetts   \n",
       "2560  3670       destroy            NaN   \n",
       "4467  6350      hostages            NaN   \n",
       "331    478    armageddon    Toronto, ON   \n",
       "3108  4459  electrocuted            NaN   \n",
       "\n",
       "                                                   text  target  \n",
       "3557  Russia destroys food while people go hungry.  ...       1  \n",
       "2560      @CameronCiletti @tigersjostun I can destroy u       0  \n",
       "4467  'Well guess what young girls. You aren't damse...       0  \n",
       "331   @Erker Again?? Eep! Thought of you yesterday w...       1  \n",
       "3108  Youth electrocuted in Khulna  | http://t.co/3E...       1  "
      ]
     },
     "execution_count": 3,
     "metadata": {},
     "output_type": "execute_result"
    }
   ],
   "source": [
    "traindf = pd.read_csv('data/train.csv')\n",
    "\n",
    "# summary\n",
    "labels_count = traindf[\"target\"].value_counts()\n",
    "print(f'# of Tweets: {len(traindf)}')\n",
    "print(f'columns: {traindf.columns.tolist()}')\n",
    "print(f'labels: {traindf[\"target\"].unique()}')\n",
    "print(f'counts of each label: {labels_count.to_dict()}')\n",
    "print(f'score baseline: {(labels_count.max() / labels_count.sum()):.4f}')\n",
    "print()\n",
    "\n",
    "traindf.sample(5)"
   ]
  },
  {
   "cell_type": "code",
   "execution_count": 4,
   "metadata": {
    "colab": {
     "base_uri": "https://localhost:8080/",
     "height": 258
    },
    "executionInfo": {
     "elapsed": 21,
     "status": "ok",
     "timestamp": 1640355114639,
     "user": {
      "displayName": "李俞鋒",
      "photoUrl": "https://lh3.googleusercontent.com/a/default-user=s64",
      "userId": "09212386763051698812"
     },
     "user_tz": -480
    },
    "id": "sw-tHGXbgTRH",
    "outputId": "167f3d77-8dc1-452e-a4eb-ad1fd11c6adc"
   },
   "outputs": [
    {
     "name": "stdout",
     "output_type": "stream",
     "text": [
      "# of Tweets: 3263\n",
      "columns: ['id', 'keyword', 'location', 'text']\n",
      "\n"
     ]
    },
    {
     "data": {
      "text/html": [
       "<div>\n",
       "<style scoped>\n",
       "    .dataframe tbody tr th:only-of-type {\n",
       "        vertical-align: middle;\n",
       "    }\n",
       "\n",
       "    .dataframe tbody tr th {\n",
       "        vertical-align: top;\n",
       "    }\n",
       "\n",
       "    .dataframe thead th {\n",
       "        text-align: right;\n",
       "    }\n",
       "</style>\n",
       "<table border=\"1\" class=\"dataframe\">\n",
       "  <thead>\n",
       "    <tr style=\"text-align: right;\">\n",
       "      <th></th>\n",
       "      <th>id</th>\n",
       "      <th>keyword</th>\n",
       "      <th>location</th>\n",
       "      <th>text</th>\n",
       "    </tr>\n",
       "  </thead>\n",
       "  <tbody>\n",
       "    <tr>\n",
       "      <th>2232</th>\n",
       "      <td>7445</td>\n",
       "      <td>obliteration</td>\n",
       "      <td>San Diego, CA</td>\n",
       "      <td>Why did God order obliteration of ancient Cana...</td>\n",
       "    </tr>\n",
       "    <tr>\n",
       "      <th>510</th>\n",
       "      <td>1668</td>\n",
       "      <td>bombing</td>\n",
       "      <td>Somewhere on the Earth</td>\n",
       "      <td>70 yrs since the atomic bombing of Hiroshima.....</td>\n",
       "    </tr>\n",
       "    <tr>\n",
       "      <th>1596</th>\n",
       "      <td>5395</td>\n",
       "      <td>fire%20truck</td>\n",
       "      <td>Los Angeles, CA</td>\n",
       "      <td>This dude just pulled in front of our producti...</td>\n",
       "    </tr>\n",
       "    <tr>\n",
       "      <th>483</th>\n",
       "      <td>1566</td>\n",
       "      <td>bomb</td>\n",
       "      <td>SHIBUYA TOKYO JAPAN</td>\n",
       "      <td>&amp;lt;Kyodonews&amp;gt; UPDATE1: Hiroshima marks 70t...</td>\n",
       "    </tr>\n",
       "    <tr>\n",
       "      <th>2677</th>\n",
       "      <td>8925</td>\n",
       "      <td>snowstorm</td>\n",
       "      <td>Mountains</td>\n",
       "      <td>New #photo Oak in a snowstorm http://t.co/gWOK...</td>\n",
       "    </tr>\n",
       "  </tbody>\n",
       "</table>\n",
       "</div>"
      ],
      "text/plain": [
       "        id       keyword                location  \\\n",
       "2232  7445  obliteration           San Diego, CA   \n",
       "510   1668       bombing  Somewhere on the Earth   \n",
       "1596  5395  fire%20truck         Los Angeles, CA   \n",
       "483   1566          bomb     SHIBUYA TOKYO JAPAN   \n",
       "2677  8925     snowstorm               Mountains   \n",
       "\n",
       "                                                   text  \n",
       "2232  Why did God order obliteration of ancient Cana...  \n",
       "510   70 yrs since the atomic bombing of Hiroshima.....  \n",
       "1596  This dude just pulled in front of our producti...  \n",
       "483   &lt;Kyodonews&gt; UPDATE1: Hiroshima marks 70t...  \n",
       "2677  New #photo Oak in a snowstorm http://t.co/gWOK...  "
      ]
     },
     "execution_count": 4,
     "metadata": {},
     "output_type": "execute_result"
    }
   ],
   "source": [
    "testdf = pd.read_csv('data/test.csv')\n",
    "\n",
    "# summary\n",
    "print(f'# of Tweets: {len(testdf)}')\n",
    "print(f'columns: {testdf.columns.tolist()}')\n",
    "print()\n",
    "\n",
    "testdf.sample(5)"
   ]
  },
  {
   "cell_type": "markdown",
   "metadata": {
    "id": "FO532u_QF8Vf"
   },
   "source": [
    "Fortunately, the training data seems not large. And the labels are balanced enough (0.57 : 0.43).  \n",
    "The only thing we need to look out for is that the columns `keyword` and `location` may be a good feature."
   ]
  },
  {
   "cell_type": "markdown",
   "metadata": {
    "id": "IULNq82jgTRL"
   },
   "source": [
    "<div class=\"alert alert-block alert-warning\">\n",
    "    <b>💡 If you have done tokenization before, please go <a href=\"#Read-tokenized-corpus\">here</a> to read the pre-tokenized corpus.</b>\n",
    "</div>\n",
    "If you are running on google colab, please go <b><a href=\"#scrollTo=Qn6o42uwgTRX\">here</a></b> instead."
   ]
  },
  {
   "cell_type": "markdown",
   "metadata": {
    "id": "---tzoT0gTRM"
   },
   "source": [
    "## Ngram Analysis\n",
    "Let's do a bigram(n=2) analysis on our corpus to see the top common words."
   ]
  },
  {
   "cell_type": "code",
   "execution_count": null,
   "metadata": {
    "id": "S_woSrWhgTRN"
   },
   "outputs": [],
   "source": [
    "# 偷懶用一下sklearn的分析工具\n",
    "from sklearn.feature_extraction.text import CountVectorizer\n",
    "\n",
    "def top_bigrams(corpus, n_top=10) -> Dict[str, int]:\n",
    "    vec = CountVectorizer(ngram_range=(2, 2))\n",
    "    bow = vec.fit_transform(corpus)\n",
    "    word_counts = bow.sum(axis=0)\n",
    "    words_freq = [(word, word_counts[0, idx]) for word, idx in vec.vocabulary_.items()]\n",
    "    words_freq = sorted(words_freq, key = lambda kv: kv[1], reverse=True)\n",
    "    \n",
    "    return dict(words_freq[:n_top])"
   ]
  },
  {
   "cell_type": "code",
   "execution_count": null,
   "metadata": {
    "id": "L4qs0_Z8gTRO"
   },
   "outputs": [],
   "source": [
    "print('=== training corpus ===')\n",
    "for k, v in top_bigrams(traindf['text'].values).items():\n",
    "    print(f'{k}: {v}')\n",
    "    \n",
    "print('\\n=== testing corpus ===')\n",
    "for k, v in top_bigrams(testdf['text'].values).items():\n",
    "    print(f'{k}: {v}')"
   ]
  },
  {
   "cell_type": "markdown",
   "metadata": {
    "id": "v5JReXsFgTRO"
   },
   "source": [
    "Obviousely there are so many url and meaningless words(called stopwords).  \n",
    "We will need to remove url and those stopwords."
   ]
  },
  {
   "cell_type": "markdown",
   "metadata": {
    "id": "dBz6cMGPgTRP"
   },
   "source": [
    "## Data cleaning\n",
    "- lower casing\n",
    "- HTML\n",
    "    - recover html formatted symbols\n",
    "    - remove html tags\n",
    "- remove url\n",
    "- remove emoji\n",
    "- remove punctuations\n",
    "- correct spelling\n",
    "- remove stopwords"
   ]
  },
  {
   "cell_type": "markdown",
   "metadata": {
    "id": "eGzun0O1gTRP"
   },
   "source": [
    "### Lower casing"
   ]
  },
  {
   "cell_type": "code",
   "execution_count": null,
   "metadata": {
    "id": "iksulnJKgTRQ"
   },
   "outputs": [],
   "source": [
    "traindf.loc[:, 'text'] = traindf['text'].str.lower()\n",
    "testdf.loc[:, 'text'] = testdf['text'].str.lower()"
   ]
  },
  {
   "cell_type": "markdown",
   "metadata": {
    "id": "9qjkf76hgTRR"
   },
   "source": [
    "### Recover html formatted symbols\n",
    "Some words in tweets are html formatted, i.e `%20`, `&amp;`, ...etc.  \n",
    "We should recover them."
   ]
  },
  {
   "cell_type": "code",
   "execution_count": null,
   "metadata": {
    "id": "Ogd6aKyBgTRR"
   },
   "outputs": [],
   "source": [
    "traindf.loc[:, 'text'] = traindf['text'].str \\\n",
    "                         .replace('%20', ' ').str \\\n",
    "                         .replace('&amp;', '&').str \\\n",
    "                         .replace('\\x89û', ' ').str \\\n",
    "                         .replace('\\x89', ' ').str \\\n",
    "                         .replace('\\\\', '')\n",
    "testdf.loc[:, 'text'] = testdf['text'].str \\\n",
    "                        .replace('%20', ' ').str \\\n",
    "                        .replace('&amp;', '&').str \\\n",
    "                        .replace('\\\\x89û', ' ').str \\\n",
    "                        .replace('\\\\x89', ' ').str \\\n",
    "                        .replace('\\\\', '')"
   ]
  },
  {
   "cell_type": "markdown",
   "metadata": {
    "id": "XnHB12QmgTRS"
   },
   "source": [
    "### Remove html tags\n",
    "Since the tweets are crawled from website, maybe some html tags remain in the data."
   ]
  },
  {
   "cell_type": "code",
   "execution_count": null,
   "metadata": {
    "id": "UsJeYO7hgTRS"
   },
   "outputs": [],
   "source": [
    "def remove_html_tags(text: str):\n",
    "    html_tags_filter = re.compile(r'<.+>')\n",
    "    return html_tags_filter.sub(r'',text)\n",
    "        \n",
    "traindf.loc[:, 'text'] = traindf['text'].apply(remove_html_tags)\n",
    "testdf.loc[:, 'text'] = testdf['text'].apply(remove_html_tags)"
   ]
  },
  {
   "cell_type": "markdown",
   "metadata": {
    "id": "BqITmOaBgTRT"
   },
   "source": [
    "### Remove URL"
   ]
  },
  {
   "cell_type": "code",
   "execution_count": null,
   "metadata": {
    "id": "mWrMc4xAgTRT",
    "scrolled": true
   },
   "outputs": [],
   "source": [
    "def remove_url(text: str):\n",
    "    url_filter = re.compile(r'[a-zA-Z]+://\\S+')\n",
    "    return url_filter.sub(r'', text)\n",
    "    \n",
    "traindf.loc[:, 'text'] = traindf['text'].apply(remove_url)\n",
    "testdf.loc[:, 'text'] = testdf['text'].apply(remove_url)"
   ]
  },
  {
   "cell_type": "markdown",
   "metadata": {
    "id": "MefY_2HwgTRU"
   },
   "source": [
    "### Remove emoji\n",
    "The emoji may be related to sentiment. But is not meaningful to disaster tweets."
   ]
  },
  {
   "cell_type": "code",
   "execution_count": null,
   "metadata": {
    "id": "YE1nW0WGgTRU",
    "scrolled": true
   },
   "outputs": [],
   "source": [
    "import emoji\n",
    "\n",
    "def remove_emoji(text: str):\n",
    "    return emoji.get_emoji_regexp().sub(r'', text)\n",
    "    \n",
    "traindf.loc[:, 'text'] = traindf['text'].apply(remove_emoji)\n",
    "testdf.loc[:, 'text'] = testdf['text'].apply(remove_emoji)"
   ]
  },
  {
   "cell_type": "markdown",
   "metadata": {
    "id": "TU4fMIJjgTRV"
   },
   "source": [
    "### Remove punctuations\n",
    "The symbols are meaningless."
   ]
  },
  {
   "cell_type": "code",
   "execution_count": null,
   "metadata": {
    "id": "NQ9uBI5CgTRV"
   },
   "outputs": [],
   "source": [
    "# here we use the python string built-in punctuations.\n",
    "import string\n",
    "\n",
    "string.punctuation"
   ]
  },
  {
   "cell_type": "code",
   "execution_count": null,
   "metadata": {
    "id": "e0biAhgqgTRV",
    "scrolled": true
   },
   "outputs": [],
   "source": [
    "def remove_punctuations(text: str):\n",
    "    punc_filter = re.compile(f'[{string.punctuation}]')\n",
    "    return punc_filter.sub(' ', text)\n",
    "    \n",
    "traindf.loc[:, 'text'] = traindf['text'].apply(remove_punctuations)\n",
    "testdf.loc[:, 'text'] = testdf['text'].apply(remove_punctuations)"
   ]
  },
  {
   "cell_type": "markdown",
   "metadata": {
    "id": "x0YYSKAGgTRW"
   },
   "source": [
    "Notice that we have not corrected spellings and removed stopwords yet. It will be done by tokenization."
   ]
  },
  {
   "cell_type": "markdown",
   "metadata": {
    "id": "vEi0BWdP9T9g"
   },
   "source": [
    "## Tokenization\n",
    "Consider the column `text`.  \n",
    "We need to tokenize the texts into words and use pre-trained word vectors to do embedding.  \n",
    "The most recommended way to do tokenization is to use the tokenizer corresponding to the pre-trained word vectors model we chose.  \n",
    "Below are word vectors model we would choose.\n",
    "\n",
    "### Glove  \n",
    "Developed by Stanford in 2014.  \n",
    "The tokenizer would be the tool recommended by Stanford GloVe developers - Stanford EnglishTokenizer, which is under this project [CoreNLP](https://github.com/stanfordnlp/CoreNLP).\n",
    "\n",
    "### Fasttext\n",
    "Developed by Facebook in 2016.\n",
    "\n",
    "### Third-party Tokenizers\n",
    "- vanilla tokenizer (split by spaces)\n",
    "- [spaCy tokenizer](https://spacy.io/api/tokenizer)\n",
    "- [tensorflow tokenizer](https://www.tensorflow.org/api_docs/python/tf/keras/preprocessing/text/Tokenizer)"
   ]
  },
  {
   "cell_type": "code",
   "execution_count": null,
   "metadata": {
    "id": "CKJAjYMJX_7C",
    "scrolled": true
   },
   "outputs": [],
   "source": [
    "from nltk.corpus import stopwords\n",
    "\n",
    "# stanza.download()\n",
    "# nlp = stanza.Pipeline(processors='tokenize')\n",
    "\n",
    "# it will take about half of an hour to do tokenization.\n",
    "tokenizer = Tokenizer(tool=str.split)\n",
    "corpus_tokens = tokenizer.fit([traindf['text'].values, testdf['text'].values], stopwords.words('english'))\n",
    "train_tokens, test_tokens = corpus_tokens\n",
    "\n",
    "# save tokenized corpus\n",
    "# write_corpus(corpus_tokens, 'data/corpus.txt')\n",
    "tokenizer.save('data/')"
   ]
  },
  {
   "cell_type": "markdown",
   "metadata": {
    "id": "Qn6o42uwgTRX"
   },
   "source": [
    "### Read tokenized corpus"
   ]
  },
  {
   "cell_type": "code",
   "execution_count": 5,
   "metadata": {
    "executionInfo": {
     "elapsed": 548,
     "status": "ok",
     "timestamp": 1640355120814,
     "user": {
      "displayName": "李俞鋒",
      "photoUrl": "https://lh3.googleusercontent.com/a/default-user=s64",
      "userId": "09212386763051698812"
     },
     "user_tz": -480
    },
    "id": "uMhAperBgTRX"
   },
   "outputs": [],
   "source": [
    "# read tokenized corpus\n",
    "tokenizer = Tokenizer(tool=str.split)\n",
    "corpus_tokens = tokenizer.load('data/')\n",
    "train_tokens, test_tokens = corpus_tokens"
   ]
  },
  {
   "cell_type": "code",
   "execution_count": 6,
   "metadata": {
    "colab": {
     "base_uri": "https://localhost:8080/"
    },
    "executionInfo": {
     "elapsed": 10,
     "status": "ok",
     "timestamp": 1640355120816,
     "user": {
      "displayName": "李俞鋒",
      "photoUrl": "https://lh3.googleusercontent.com/a/default-user=s64",
      "userId": "09212386763051698812"
     },
     "user_tz": -480
    },
    "id": "QOSwKcbO3-ox",
    "outputId": "27cb54dc-bbcb-4203-fefe-272946ce42c0"
   },
   "outputs": [
    {
     "name": "stdout",
     "output_type": "stream",
     "text": [
      "=== Tokenized Training Corpus ===\n",
      "# of vocab: 15719\n",
      "max sequence length: 21\n",
      "min sequence length: 1\n",
      "avg sequence length: 8.874031262314462\n",
      "\n",
      "=== Tokenized Testing Corpus ===\n",
      "# of vocab: 15719\n",
      "max sequence length: 22\n",
      "min sequence length: 1\n",
      "avg sequence length: 8.986515476555317\n"
     ]
    }
   ],
   "source": [
    "# summary\n",
    "seqlens_train = np.array([len(tokens) for tokens in train_tokens])\n",
    "print('=== Tokenized Training Corpus ===')\n",
    "print(f'# of vocab: {len(tokenizer.word_id)}')\n",
    "print(f'max sequence length: {seqlens_train.max()}')\n",
    "print(f'min sequence length: {seqlens_train.min()}')\n",
    "print(f'avg sequence length: {seqlens_train.mean()}\\n')\n",
    "\n",
    "seqlens_test = np.array([len(tokens) for tokens in test_tokens])\n",
    "print('=== Tokenized Testing Corpus ===')\n",
    "print(f'# of vocab: {len(tokenizer.word_id)}')\n",
    "print(f'max sequence length: {seqlens_test.max()}')\n",
    "print(f'min sequence length: {seqlens_test.min()}')\n",
    "print(f'avg sequence length: {seqlens_test.mean()}')"
   ]
  },
  {
   "cell_type": "code",
   "execution_count": 7,
   "metadata": {
    "colab": {
     "base_uri": "https://localhost:8080/",
     "height": 501
    },
    "executionInfo": {
     "elapsed": 1036,
     "status": "ok",
     "timestamp": 1640355123954,
     "user": {
      "displayName": "李俞鋒",
      "photoUrl": "https://lh3.googleusercontent.com/a/default-user=s64",
      "userId": "09212386763051698812"
     },
     "user_tz": -480
    },
    "id": "h4Hiqz5agTRY",
    "outputId": "b3e18ce8-45ce-4343-e115-a1ba109a6b42",
    "scrolled": false
   },
   "outputs": [
    {
     "data": {
      "image/png": "[encoded data removed]",
      "text/plain": [
       "<Figure size 1440x576 with 2 Axes>"
      ]
     },
     "metadata": {
      "needs_background": "light"
     },
     "output_type": "display_data"
    }
   ],
   "source": [
    "plt.figure(figsize=(20, 8))\n",
    "palette = iter([plt.cm.Accent(i) for i in range(10)])\n",
    "\n",
    "plt.subplot(1, 2, 1)\n",
    "plt.hist(seqlens_train, range=(1, 21), color=next(palette))\n",
    "plt.title('Training Corpus Sequences Length Histogram', fontsize=16)\n",
    "\n",
    "plt.subplot(1, 2, 2)\n",
    "plt.hist(seqlens_test, range=(1, 21), color=next(palette))\n",
    "plt.title('Testing Corpus Sequences Length Histogram', fontsize=16)\n",
    "\n",
    "plt.show()"
   ]
  },
  {
   "cell_type": "markdown",
   "metadata": {
    "id": "-ERgREzX6yMO"
   },
   "source": [
    "## Embedding Matrix\n",
    "Now we read the pre-trained file and generate a weight matrix for our vocabulary."
   ]
  },
  {
   "cell_type": "code",
   "execution_count": 8,
   "metadata": {
    "executionInfo": {
     "elapsed": 36484,
     "status": "ok",
     "timestamp": 1640355162220,
     "user": {
      "displayName": "李俞鋒",
      "photoUrl": "https://lh3.googleusercontent.com/a/default-user=s64",
      "userId": "09212386763051698812"
     },
     "user_tz": -480
    },
    "id": "rNXS4GhymW17"
   },
   "outputs": [],
   "source": [
    "vocab, oov, weights = load_weights('data/glove.twitter.27B.100d.txt', tokenizer.word_id, init_weights='zeros')"
   ]
  },
  {
   "cell_type": "code",
   "execution_count": 9,
   "metadata": {
    "colab": {
     "base_uri": "https://localhost:8080/"
    },
    "executionInfo": {
     "elapsed": 27,
     "status": "ok",
     "timestamp": 1640355162221,
     "user": {
      "displayName": "李俞鋒",
      "photoUrl": "https://lh3.googleusercontent.com/a/default-user=s64",
      "userId": "09212386763051698812"
     },
     "user_tz": -480
    },
    "id": "03d072ZHgTRa",
    "outputId": "0034d716-e995-4202-e9fd-2a0790a1e71f"
   },
   "outputs": [
    {
     "data": {
      "text/plain": [
       "(15719, 100)"
      ]
     },
     "execution_count": 9,
     "metadata": {},
     "output_type": "execute_result"
    }
   ],
   "source": [
    "weights.shape"
   ]
  },
  {
   "cell_type": "code",
   "execution_count": 10,
   "metadata": {
    "colab": {
     "base_uri": "https://localhost:8080/"
    },
    "executionInfo": {
     "elapsed": 23,
     "status": "ok",
     "timestamp": 1640355162222,
     "user": {
      "displayName": "李俞鋒",
      "photoUrl": "https://lh3.googleusercontent.com/a/default-user=s64",
      "userId": "09212386763051698812"
     },
     "user_tz": -480
    },
    "id": "3qGMfmRogTRc",
    "outputId": "f109631b-e1a2-43fd-e7c4-d53f1ee9980c"
   },
   "outputs": [
    {
     "data": {
      "text/plain": [
       "11249"
      ]
     },
     "execution_count": 10,
     "metadata": {},
     "output_type": "execute_result"
    }
   ],
   "source": [
    "len(vocab)"
   ]
  },
  {
   "cell_type": "code",
   "execution_count": 11,
   "metadata": {
    "colab": {
     "base_uri": "https://localhost:8080/"
    },
    "executionInfo": {
     "elapsed": 19,
     "status": "ok",
     "timestamp": 1640355162223,
     "user": {
      "displayName": "李俞鋒",
      "photoUrl": "https://lh3.googleusercontent.com/a/default-user=s64",
      "userId": "09212386763051698812"
     },
     "user_tz": -480
    },
    "id": "VksPaKThgTRd",
    "outputId": "e404e643-f959-4ba1-85dc-5f12c1360d75",
    "scrolled": true
   },
   "outputs": [
    {
     "data": {
      "text/plain": [
       "['irandeal',\n",
       " 'evilempire',\n",
       " 'pyrotechnic',\n",
       " 'minsuwoongs',\n",
       " 'ebolaåêcase',\n",
       " 'onychia',\n",
       " 'ks161',\n",
       " 'vassalboro',\n",
       " 'unfordable',\n",
       " 'kwxggt',\n",
       " 'p45perez',\n",
       " 'comcastcares',\n",
       " 'horndale',\n",
       " 'foxdebatequestions',\n",
       " 'freegeezy17',\n",
       " 'netbots',\n",
       " 'bbsnews',\n",
       " 'abc7eyewitness',\n",
       " 'bonesymcbones',\n",
       " 'dantmatrafajlo']"
      ]
     },
     "execution_count": 11,
     "metadata": {},
     "output_type": "execute_result"
    }
   ],
   "source": [
    "oov[:20]"
   ]
  },
  {
   "cell_type": "markdown",
   "metadata": {
    "id": "Tbz6cCa9gTRd"
   },
   "source": [
    "## Training Models\n",
    "Here we built two models to fit our dataset.  \n",
    "- **DNN (2 hidden-layers)** which acts as our baseline model.  \n",
    "- **LSTM** which is the master model to process our task.  \n",
    "\n",
    "And at the end we compare the LSTM from scratch with which from Keras."
   ]
  },
  {
   "cell_type": "code",
   "execution_count": 12,
   "metadata": {
    "executionInfo": {
     "elapsed": 565,
     "status": "ok",
     "timestamp": 1640355186204,
     "user": {
      "displayName": "李俞鋒",
      "photoUrl": "https://lh3.googleusercontent.com/a/default-user=s64",
      "userId": "09212386763051698812"
     },
     "user_tz": -480
    },
    "id": "EC0l5Sp5gTRe"
   },
   "outputs": [],
   "source": [
    "n_data = len(traindf)\n",
    "MAX_LEN = 22\n",
    "null_id = len(tokenizer.word_id) # the word id for pad_sequences value"
   ]
  },
  {
   "cell_type": "code",
   "execution_count": 13,
   "metadata": {
    "colab": {
     "base_uri": "https://localhost:8080/"
    },
    "executionInfo": {
     "elapsed": 398,
     "status": "ok",
     "timestamp": 1640355187925,
     "user": {
      "displayName": "李俞鋒",
      "photoUrl": "https://lh3.googleusercontent.com/a/default-user=s64",
      "userId": "09212386763051698812"
     },
     "user_tz": -480
    },
    "id": "-CkE4ObMgTRe",
    "outputId": "91ed6085-8958-45c7-e162-6c4541f73fe3"
   },
   "outputs": [
    {
     "data": {
      "text/plain": [
       "(15720, 100)"
      ]
     },
     "execution_count": 13,
     "metadata": {},
     "output_type": "execute_result"
    }
   ],
   "source": [
    "# append the weight of null_id\n",
    "emb_weights = np.vstack((weights, np.zeros(shape=weights.shape[-1])))\n",
    "emb_weights.shape"
   ]
  },
  {
   "cell_type": "code",
   "execution_count": 14,
   "metadata": {
    "executionInfo": {
     "elapsed": 4,
     "status": "ok",
     "timestamp": 1640355188887,
     "user": {
      "displayName": "李俞鋒",
      "photoUrl": "https://lh3.googleusercontent.com/a/default-user=s64",
      "userId": "09212386763051698812"
     },
     "user_tz": -480
    },
    "id": "Q5Ga0PYjgTRf"
   },
   "outputs": [],
   "source": [
    "train_X = np.array(pad_sequences(tokenizer.encode(train_tokens), value=null_id, max_length=MAX_LEN))\n",
    "train_Y = traindf['target'].values.reshape(-1, 1)\n",
    "\n",
    "test_X = np.array(pad_sequences(tokenizer.encode(test_tokens), value=null_id, max_length=MAX_LEN))"
   ]
  },
  {
   "cell_type": "markdown",
   "metadata": {},
   "source": [
    "### DNN - Baseline"
   ]
  },
  {
   "cell_type": "code",
   "execution_count": 15,
   "metadata": {},
   "outputs": [],
   "source": [
    "class Baseline:\n",
    "    def __init__(self, \n",
    "                 hidden_units,\n",
    "                 input_length: int, \n",
    "                 embedding_weights: np.ndarray, \n",
    "                 proj_dim: int,\n",
    "                 optimizer: Optimizer):\n",
    "        self.embedding = Embedding(input_length=input_length, weights=embedding_weights)\n",
    "        self.proj_dim = proj_dim\n",
    "        self.pca = PCA(self.proj_dim, seed=0)\n",
    "        self.input_dim = input_length * proj_dim\n",
    "        self.model = Model(loss=binary_cross_entropy, optimizer=optimizer, metric=BinaryAccuracy())\n",
    "        for units in hidden_units:\n",
    "            l_linear = Linear(units) if self.model.layers else Linear(units, input_dim=self.input_dim)\n",
    "            self.model.add_layer(l_linear, Activation(ReLU, name='ReLU'))\n",
    "        self.model.add_layer(Linear(1), Activation(sigmoid, name='Sigmoid'))\n",
    "        \n",
    "    def _preprocessing(self, X):\n",
    "        n_samples, n_features = X.shape\n",
    "        \n",
    "        print('Embedding data weights...')\n",
    "        embed_X = self.embedding(X)\n",
    "        \n",
    "        print(f'Doing data PCA onto dimension {self.proj_dim}...')\n",
    "        proj_X = np.empty(shape=(n_samples, n_features*self.proj_dim))\n",
    "        for i in tqdm(range(n_samples), ncols=100):\n",
    "            proj_X[i] = self.pca.fit_transform(embed_X[i]).flatten()\n",
    "            \n",
    "        return proj_X\n",
    "        \n",
    "    def fit(self, X: np.ndarray, Y: np.ndarray, epochs: int, batch_size: int = 16):\n",
    "        X = self._preprocessing(X)\n",
    "        \n",
    "        print('Fitting PCA data with DNN...')\n",
    "        return self.model.fit(X, Y, epochs=epochs, batch_size=batch_size)\n",
    "        \n",
    "    def evaluate(self, X: np.ndarray, Y: np.ndarray):\n",
    "        h = self.predict(X)\n",
    "        acc = BinaryAccuracy()\n",
    "        \n",
    "        return {'accuracy': acc(h, Y), 'loss': binary_cross_entropy(h, Y)}\n",
    "        \n",
    "    def predict(self, X):\n",
    "        X = self._preprocessing(X)\n",
    "        h = self.model.predict(X)\n",
    "        \n",
    "        return h\n",
    "    \n",
    "    def __repr__(self):\n",
    "        return self.model.__repr__()"
   ]
  },
  {
   "cell_type": "code",
   "execution_count": 39,
   "metadata": {
    "scrolled": true
   },
   "outputs": [
    {
     "data": {
      "text/plain": [
       "Layers\t\t\tOutput Shape\n",
       "____________________________________\n",
       "Linear_0\t\t(128,)\n",
       "ReLU\t\t\t(128,)\n",
       "Linear_1\t\t(64,)\n",
       "ReLU\t\t\t(64,)\n",
       "Linear_2\t\t(1,)\n",
       "Sigmoid\t\t\t(1,)"
      ]
     },
     "execution_count": 39,
     "metadata": {},
     "output_type": "execute_result"
    }
   ],
   "source": [
    "# If you encountered CUDA error while running, please run this cell again.\n",
    "baseline = Baseline(hidden_units=[128, 64], \n",
    "                    input_length=MAX_LEN, \n",
    "                    embedding_weights=emb_weights, \n",
    "                    proj_dim=5,\n",
    "                    optimizer=BGD(learning_rate=1e-2))\n",
    "baseline"
   ]
  },
  {
   "cell_type": "code",
   "execution_count": 40,
   "metadata": {
    "scrolled": true
   },
   "outputs": [
    {
     "name": "stdout",
     "output_type": "stream",
     "text": [
      "Embedding data weights...\n",
      "Doing data PCA onto dimension 5...\n"
     ]
    },
    {
     "name": "stderr",
     "output_type": "stream",
     "text": [
      "100%|██████████████████████████████████████████████████████████| 7613/7613 [00:54<00:00, 138.99it/s]\n"
     ]
    },
    {
     "name": "stdout",
     "output_type": "stream",
     "text": [
      "Fitting PCA data with DNN...\n"
     ]
    },
    {
     "name": "stderr",
     "output_type": "stream",
     "text": [
      "epoch 01/30: 100%|==============| 476/476 [00:02<00:00, 215.10it/s, accuracy= 0.6016 - loss= 0.6757]\n",
      "epoch 02/30: 100%|==============| 476/476 [00:02<00:00, 207.35it/s, accuracy= 0.6375 - loss= 0.6456]\n",
      "epoch 03/30: 100%|==============| 476/476 [00:02<00:00, 189.88it/s, accuracy= 0.6543 - loss= 0.6307]\n",
      "epoch 04/30: 100%|==============| 476/476 [00:02<00:00, 186.59it/s, accuracy= 0.6632 - loss= 0.6185]\n",
      "epoch 05/30: 100%|==============| 476/476 [00:02<00:00, 183.11it/s, accuracy= 0.6754 - loss= 0.6069]\n",
      "epoch 06/30: 100%|==============| 476/476 [00:02<00:00, 172.66it/s, accuracy= 0.6845 - loss= 0.5953]\n",
      "epoch 07/30: 100%|==============| 476/476 [00:02<00:00, 210.12it/s, accuracy= 0.6937 - loss= 0.5838]\n",
      "epoch 08/30: 100%|==============| 476/476 [00:02<00:00, 184.57it/s, accuracy= 0.7018 - loss= 0.5722]\n",
      "epoch 09/30: 100%|==============| 476/476 [00:02<00:00, 191.39it/s, accuracy= 0.7125 - loss= 0.5602]\n",
      "epoch 10/30: 100%|==============| 476/476 [00:02<00:00, 176.36it/s, accuracy= 0.7239 - loss= 0.5479]\n",
      "epoch 11/30: 100%|==============| 476/476 [00:02<00:00, 187.92it/s, accuracy= 0.7357 - loss= 0.5353]\n",
      "epoch 12/30: 100%|==============| 476/476 [00:02<00:00, 185.44it/s, accuracy= 0.7449 - loss= 0.5225]\n",
      "epoch 13/30: 100%|==============| 476/476 [00:02<00:00, 187.65it/s, accuracy= 0.7547 - loss= 0.5097]\n",
      "epoch 14/30: 100%|==============| 476/476 [00:02<00:00, 202.50it/s, accuracy= 0.7642 - loss= 0.4965]\n",
      "epoch 15/30: 100%|==============| 476/476 [00:02<00:00, 196.77it/s, accuracy= 0.7751 - loss= 0.4833]\n",
      "epoch 16/30: 100%|==============| 476/476 [00:02<00:00, 186.59it/s, accuracy= 0.7831 - loss= 0.4696]\n",
      "epoch 17/30: 100%|==============| 476/476 [00:02<00:00, 197.96it/s, accuracy= 0.7940 - loss= 0.4563]\n",
      "epoch 18/30: 100%|==============| 476/476 [00:02<00:00, 178.53it/s, accuracy= 0.8031 - loss= 0.4429]\n",
      "epoch 19/30: 100%|==============| 476/476 [00:02<00:00, 190.01it/s, accuracy= 0.8106 - loss= 0.4296]\n",
      "epoch 20/30: 100%|==============| 476/476 [00:02<00:00, 187.61it/s, accuracy= 0.8203 - loss= 0.4166]\n",
      "epoch 21/30: 100%|==============| 476/476 [00:02<00:00, 164.12it/s, accuracy= 0.8285 - loss= 0.4037]\n",
      "epoch 22/30: 100%|==============| 476/476 [00:02<00:00, 178.29it/s, accuracy= 0.8350 - loss= 0.3909]\n",
      "epoch 23/30: 100%|==============| 476/476 [00:02<00:00, 187.44it/s, accuracy= 0.8425 - loss= 0.3780]\n",
      "epoch 24/30: 100%|==============| 476/476 [00:02<00:00, 199.05it/s, accuracy= 0.8505 - loss= 0.3652]\n",
      "epoch 25/30: 100%|==============| 476/476 [00:02<00:00, 216.06it/s, accuracy= 0.8566 - loss= 0.3527]\n",
      "epoch 26/30: 100%|==============| 476/476 [00:02<00:00, 177.33it/s, accuracy= 0.8643 - loss= 0.3407]\n",
      "epoch 27/30: 100%|==============| 476/476 [00:02<00:00, 166.39it/s, accuracy= 0.8714 - loss= 0.3286]\n",
      "epoch 28/30: 100%|==============| 476/476 [00:02<00:00, 167.38it/s, accuracy= 0.8783 - loss= 0.3167]\n",
      "epoch 29/30: 100%|==============| 476/476 [00:02<00:00, 172.14it/s, accuracy= 0.8862 - loss= 0.3049]\n",
      "epoch 30/30: 100%|==============| 476/476 [00:02<00:00, 196.11it/s, accuracy= 0.8936 - loss= 0.2939]\n"
     ]
    }
   ],
   "source": [
    "perf = baseline.fit(train_X, train_Y, epochs=30, batch_size=16)"
   ]
  },
  {
   "cell_type": "code",
   "execution_count": 56,
   "metadata": {},
   "outputs": [],
   "source": [
    "pd.DataFrame(data=perf).to_csv('history/history_dnn_2021-12-26.csv', index=False)"
   ]
  },
  {
   "cell_type": "code",
   "execution_count": 55,
   "metadata": {
    "scrolled": false
   },
   "outputs": [
    {
     "data": {
      "image/png": "[encoded data removed]",
      "text/plain": [
       "<Figure size 864x432 with 1 Axes>"
      ]
     },
     "metadata": {
      "needs_background": "light"
     },
     "output_type": "display_data"
    }
   ],
   "source": [
    "plt.figure(figsize=(12, 6))\n",
    "for item in perf.items():\n",
    "    plt.plot(item[1], 'o-', label=item[0])\n",
    "plt.legend()\n",
    "plt.grid()\n",
    "plt.xticks(np.arange(30, step=1), np.arange(1, 31, step=1))\n",
    "plt.yticks(np.arange(0., 1., step=0.1))\n",
    "plt.xlabel('epochs')\n",
    "plt.title('Performance of DNN with 2 hidden layers', fontdict=dict(fontsize=16))\n",
    "plt.show()"
   ]
  },
  {
   "cell_type": "code",
   "execution_count": 19,
   "metadata": {
    "scrolled": true
   },
   "outputs": [
    {
     "name": "stdout",
     "output_type": "stream",
     "text": [
      "Embedding data weights...\n",
      "Doing data PCA onto dimension 5...\n"
     ]
    },
    {
     "name": "stderr",
     "output_type": "stream",
     "text": [
      "100%|██████████████████████████████████████████████████████████| 7613/7613 [00:53<00:00, 143.00it/s]\n"
     ]
    },
    {
     "data": {
      "text/plain": [
       "{'accuracy': 0.8916327334822015, 'loss': 0.29173900804792696}"
      ]
     },
     "execution_count": 19,
     "metadata": {},
     "output_type": "execute_result"
    }
   ],
   "source": [
    "baseline.evaluate(train_X, train_Y)"
   ]
  },
  {
   "cell_type": "code",
   "execution_count": 21,
   "metadata": {},
   "outputs": [
    {
     "name": "stdout",
     "output_type": "stream",
     "text": [
      "Embedding data weights...\n",
      "Doing data PCA onto dimension 5...\n"
     ]
    },
    {
     "name": "stderr",
     "output_type": "stream",
     "text": [
      "100%|██████████████████████████████████████████████████████████| 3263/3263 [00:24<00:00, 130.73it/s]\n"
     ]
    },
    {
     "data": {
      "text/html": [
       "<div>\n",
       "<style scoped>\n",
       "    .dataframe tbody tr th:only-of-type {\n",
       "        vertical-align: middle;\n",
       "    }\n",
       "\n",
       "    .dataframe tbody tr th {\n",
       "        vertical-align: top;\n",
       "    }\n",
       "\n",
       "    .dataframe thead th {\n",
       "        text-align: right;\n",
       "    }\n",
       "</style>\n",
       "<table border=\"1\" class=\"dataframe\">\n",
       "  <thead>\n",
       "    <tr style=\"text-align: right;\">\n",
       "      <th></th>\n",
       "      <th>id</th>\n",
       "      <th>keyword</th>\n",
       "      <th>location</th>\n",
       "      <th>text</th>\n",
       "      <th>target</th>\n",
       "    </tr>\n",
       "  </thead>\n",
       "  <tbody>\n",
       "    <tr>\n",
       "      <th>0</th>\n",
       "      <td>0</td>\n",
       "      <td>NaN</td>\n",
       "      <td>NaN</td>\n",
       "      <td>Just happened a terrible car crash</td>\n",
       "      <td>0</td>\n",
       "    </tr>\n",
       "    <tr>\n",
       "      <th>1</th>\n",
       "      <td>2</td>\n",
       "      <td>NaN</td>\n",
       "      <td>NaN</td>\n",
       "      <td>Heard about #earthquake is different cities, s...</td>\n",
       "      <td>0</td>\n",
       "    </tr>\n",
       "    <tr>\n",
       "      <th>2</th>\n",
       "      <td>3</td>\n",
       "      <td>NaN</td>\n",
       "      <td>NaN</td>\n",
       "      <td>there is a forest fire at spot pond, geese are...</td>\n",
       "      <td>1</td>\n",
       "    </tr>\n",
       "    <tr>\n",
       "      <th>3</th>\n",
       "      <td>9</td>\n",
       "      <td>NaN</td>\n",
       "      <td>NaN</td>\n",
       "      <td>Apocalypse lighting. #Spokane #wildfires</td>\n",
       "      <td>0</td>\n",
       "    </tr>\n",
       "    <tr>\n",
       "      <th>4</th>\n",
       "      <td>11</td>\n",
       "      <td>NaN</td>\n",
       "      <td>NaN</td>\n",
       "      <td>Typhoon Soudelor kills 28 in China and Taiwan</td>\n",
       "      <td>0</td>\n",
       "    </tr>\n",
       "    <tr>\n",
       "      <th>...</th>\n",
       "      <td>...</td>\n",
       "      <td>...</td>\n",
       "      <td>...</td>\n",
       "      <td>...</td>\n",
       "      <td>...</td>\n",
       "    </tr>\n",
       "    <tr>\n",
       "      <th>3258</th>\n",
       "      <td>10861</td>\n",
       "      <td>NaN</td>\n",
       "      <td>NaN</td>\n",
       "      <td>EARTHQUAKE SAFETY LOS ANGELES ÛÒ SAFETY FASTE...</td>\n",
       "      <td>0</td>\n",
       "    </tr>\n",
       "    <tr>\n",
       "      <th>3259</th>\n",
       "      <td>10865</td>\n",
       "      <td>NaN</td>\n",
       "      <td>NaN</td>\n",
       "      <td>Storm in RI worse than last hurricane. My city...</td>\n",
       "      <td>1</td>\n",
       "    </tr>\n",
       "    <tr>\n",
       "      <th>3260</th>\n",
       "      <td>10868</td>\n",
       "      <td>NaN</td>\n",
       "      <td>NaN</td>\n",
       "      <td>Green Line derailment in Chicago http://t.co/U...</td>\n",
       "      <td>0</td>\n",
       "    </tr>\n",
       "    <tr>\n",
       "      <th>3261</th>\n",
       "      <td>10874</td>\n",
       "      <td>NaN</td>\n",
       "      <td>NaN</td>\n",
       "      <td>MEG issues Hazardous Weather Outlook (HWO) htt...</td>\n",
       "      <td>1</td>\n",
       "    </tr>\n",
       "    <tr>\n",
       "      <th>3262</th>\n",
       "      <td>10875</td>\n",
       "      <td>NaN</td>\n",
       "      <td>NaN</td>\n",
       "      <td>#CityofCalgary has activated its Municipal Eme...</td>\n",
       "      <td>1</td>\n",
       "    </tr>\n",
       "  </tbody>\n",
       "</table>\n",
       "<p>3263 rows × 5 columns</p>\n",
       "</div>"
      ],
      "text/plain": [
       "         id keyword location  \\\n",
       "0         0     NaN      NaN   \n",
       "1         2     NaN      NaN   \n",
       "2         3     NaN      NaN   \n",
       "3         9     NaN      NaN   \n",
       "4        11     NaN      NaN   \n",
       "...     ...     ...      ...   \n",
       "3258  10861     NaN      NaN   \n",
       "3259  10865     NaN      NaN   \n",
       "3260  10868     NaN      NaN   \n",
       "3261  10874     NaN      NaN   \n",
       "3262  10875     NaN      NaN   \n",
       "\n",
       "                                                   text  target  \n",
       "0                    Just happened a terrible car crash       0  \n",
       "1     Heard about #earthquake is different cities, s...       0  \n",
       "2     there is a forest fire at spot pond, geese are...       1  \n",
       "3              Apocalypse lighting. #Spokane #wildfires       0  \n",
       "4         Typhoon Soudelor kills 28 in China and Taiwan       0  \n",
       "...                                                 ...     ...  \n",
       "3258  EARTHQUAKE SAFETY LOS ANGELES ÛÒ SAFETY FASTE...       0  \n",
       "3259  Storm in RI worse than last hurricane. My city...       1  \n",
       "3260  Green Line derailment in Chicago http://t.co/U...       0  \n",
       "3261  MEG issues Hazardous Weather Outlook (HWO) htt...       1  \n",
       "3262  #CityofCalgary has activated its Municipal Eme...       1  \n",
       "\n",
       "[3263 rows x 5 columns]"
      ]
     },
     "execution_count": 21,
     "metadata": {},
     "output_type": "execute_result"
    }
   ],
   "source": [
    "test_Y_prob = baseline.predict(test_X)\n",
    "test_Y = (test_Y_prob >= 0.5).astype(int)\n",
    "testdf['target'] = test_Y.flatten()\n",
    "testdf"
   ]
  },
  {
   "cell_type": "code",
   "execution_count": 22,
   "metadata": {},
   "outputs": [],
   "source": [
    "submission = testdf[['id', 'target']]\n",
    "submission.to_csv('submissions/submission_dnn_2021-12-26.csv', index=False)"
   ]
  },
  {
   "cell_type": "markdown",
   "metadata": {
    "id": "U0vNzp8OgTRf"
   },
   "source": [
    "### LSTM From SproutNet (from scratch)"
   ]
  },
  {
   "cell_type": "code",
   "execution_count": 23,
   "metadata": {
    "colab": {
     "base_uri": "https://localhost:8080/"
    },
    "executionInfo": {
     "elapsed": 394,
     "status": "ok",
     "timestamp": 1640355653848,
     "user": {
      "displayName": "李俞鋒",
      "photoUrl": "https://lh3.googleusercontent.com/a/default-user=s64",
      "userId": "09212386763051698812"
     },
     "user_tz": -480
    },
    "id": "xeuTKQAjgTRf",
    "outputId": "148f4b42-3e5c-4e97-cd3f-3a9a8898188d"
   },
   "outputs": [
    {
     "data": {
      "text/plain": [
       "Layers\t\t\tOutput Shape\n",
       "____________________________________\n",
       "Embedding_0\t\t(22, 100)\n",
       "LSTM_0\t\t\t(64,)\n",
       "Linear_0\t\t(1,)\n",
       "Sigmoid\t\t\t(1,)"
      ]
     },
     "execution_count": 23,
     "metadata": {},
     "output_type": "execute_result"
    }
   ],
   "source": [
    "# from scratch\n",
    "model = Model(loss=binary_cross_entropy, optimizer=Adam(learning_rate=1e-3), metric=BinaryAccuracy())\n",
    "emb_layer = Embedding(input_length=MAX_LEN, weights=emb_weights)\n",
    "lstm_layer = LSTM(units=64)\n",
    "linear_layer = Linear(units=1)\n",
    "activation_layer = Activation(activator=sigmoid, name='Sigmoid')\n",
    "model.add_layer(emb_layer, lstm_layer, linear_layer, activation_layer)\n",
    "\n",
    "model"
   ]
  },
  {
   "cell_type": "code",
   "execution_count": 24,
   "metadata": {
    "colab": {
     "base_uri": "https://localhost:8080/"
    },
    "executionInfo": {
     "elapsed": 1384716,
     "status": "ok",
     "timestamp": 1640357040801,
     "user": {
      "displayName": "李俞鋒",
      "photoUrl": "https://lh3.googleusercontent.com/a/default-user=s64",
      "userId": "09212386763051698812"
     },
     "user_tz": -480
    },
    "id": "Wox_QB8vgTRg",
    "outputId": "dabb8449-d142-44f1-eec0-2e5cc83cb895",
    "scrolled": false
   },
   "outputs": [
    {
     "name": "stderr",
     "output_type": "stream",
     "text": [
      "epoch 01/30: 100%|=========================| 476/476 [00:36<00:00, 12.88it/s, accuracy= 0.6404 - loss= 0.6499]\n",
      "epoch 02/30: 100%|=========================| 476/476 [00:35<00:00, 13.24it/s, accuracy= 0.7348 - loss= 0.5592]\n",
      "epoch 03/30: 100%|=========================| 476/476 [00:35<00:00, 13.32it/s, accuracy= 0.7534 - loss= 0.5304]\n",
      "epoch 04/30: 100%|=========================| 476/476 [00:37<00:00, 12.79it/s, accuracy= 0.7686 - loss= 0.5133]\n",
      "epoch 05/30: 100%|=========================| 476/476 [00:36<00:00, 12.94it/s, accuracy= 0.7749 - loss= 0.5004]\n",
      "epoch 06/30: 100%|=========================| 476/476 [00:37<00:00, 12.61it/s, accuracy= 0.7851 - loss= 0.4904]\n",
      "epoch 07/30: 100%|=========================| 476/476 [00:40<00:00, 11.90it/s, accuracy= 0.7916 - loss= 0.4828]\n",
      "epoch 08/30: 100%|=========================| 476/476 [00:39<00:00, 11.96it/s, accuracy= 0.7963 - loss= 0.4754]\n",
      "epoch 09/30: 100%|=========================| 476/476 [00:39<00:00, 12.17it/s, accuracy= 0.8020 - loss= 0.4704]\n",
      "epoch 10/30: 100%|=========================| 476/476 [00:42<00:00, 11.17it/s, accuracy= 0.8020 - loss= 0.4689]\n",
      "epoch 11/30: 100%|=========================| 476/476 [00:41<00:00, 11.38it/s, accuracy= 0.8079 - loss= 0.4645]\n",
      "epoch 12/30: 100%|=========================| 476/476 [00:42<00:00, 11.13it/s, accuracy= 0.8096 - loss= 0.4631]\n",
      "epoch 13/30: 100%|=========================| 476/476 [00:39<00:00, 12.04it/s, accuracy= 0.8109 - loss= 0.4633]\n",
      "epoch 14/30: 100%|=========================| 476/476 [00:39<00:00, 12.02it/s, accuracy= 0.8193 - loss= 0.4522]\n",
      "epoch 15/30: 100%|=========================| 476/476 [00:40<00:00, 11.71it/s, accuracy= 0.8189 - loss= 0.4483]\n",
      "epoch 16/30: 100%|=========================| 476/476 [00:40<00:00, 11.80it/s, accuracy= 0.8210 - loss= 0.4441]\n",
      "epoch 17/30: 100%|=========================| 476/476 [00:39<00:00, 12.09it/s, accuracy= 0.8222 - loss= 0.4404]\n",
      "epoch 18/30: 100%|=========================| 476/476 [00:41<00:00, 11.55it/s, accuracy= 0.8287 - loss= 0.4347]\n",
      "epoch 19/30: 100%|=========================| 476/476 [00:40<00:00, 11.86it/s, accuracy= 0.8301 - loss= 0.4319]\n",
      "epoch 20/30: 100%|=========================| 476/476 [00:40<00:00, 11.71it/s, accuracy= 0.8343 - loss= 0.4280]\n",
      "epoch 21/30: 100%|=========================| 476/476 [00:40<00:00, 11.76it/s, accuracy= 0.8372 - loss= 0.4227]\n",
      "epoch 22/30: 100%|=========================| 476/476 [00:40<00:00, 11.84it/s, accuracy= 0.8389 - loss= 0.4196]\n",
      "epoch 23/30: 100%|=========================| 476/476 [00:40<00:00, 11.80it/s, accuracy= 0.8403 - loss= 0.4169]\n",
      "epoch 24/30: 100%|=========================| 476/476 [00:39<00:00, 11.93it/s, accuracy= 0.8431 - loss= 0.4128]\n",
      "epoch 25/30: 100%|=========================| 476/476 [00:41<00:00, 11.60it/s, accuracy= 0.8410 - loss= 0.4165]\n",
      "epoch 26/30: 100%|=========================| 476/476 [00:41<00:00, 11.45it/s, accuracy= 0.8461 - loss= 0.4087]\n",
      "epoch 27/30: 100%|=========================| 476/476 [00:42<00:00, 11.28it/s, accuracy= 0.8493 - loss= 0.4032]\n",
      "epoch 28/30: 100%|=========================| 476/476 [00:40<00:00, 11.75it/s, accuracy= 0.8539 - loss= 0.3985]\n",
      "epoch 29/30: 100%|=========================| 476/476 [00:40<00:00, 11.67it/s, accuracy= 0.8552 - loss= 0.3959]\n",
      "epoch 30/30: 100%|=========================| 476/476 [00:40<00:00, 11.70it/s, accuracy= 0.8550 - loss= 0.3931]\n"
     ]
    }
   ],
   "source": [
    "performance = model.fit(train_X, train_Y, epochs=30, batch_size=16, pbar_size=110)"
   ]
  },
  {
   "cell_type": "code",
   "execution_count": 33,
   "metadata": {},
   "outputs": [
    {
     "data": {
      "image/png": "[encoded data removed]",
      "text/plain": [
       "<Figure size 864x432 with 1 Axes>"
      ]
     },
     "metadata": {
      "needs_background": "light"
     },
     "output_type": "display_data"
    }
   ],
   "source": [
    "plt.figure(figsize=(12, 6))\n",
    "for item in performance.items():\n",
    "    plt.plot(item[1], 'o-', label=item[0])\n",
    "plt.legend()\n",
    "plt.grid()\n",
    "plt.xticks(np.arange(30, step=1), np.arange(1, 31, step=1))\n",
    "plt.yticks(np.arange(0., 1., step=0.1))\n",
    "plt.xlabel('epochs')\n",
    "plt.title('Performance of LSTM', fontdict=dict(fontsize=16))\n",
    "plt.show()"
   ]
  },
  {
   "cell_type": "code",
   "execution_count": 36,
   "metadata": {},
   "outputs": [],
   "source": [
    "pd.DataFrame(data=performance).to_csv('history/history_lstm_2021-12-26.csv', index=False)"
   ]
  },
  {
   "cell_type": "code",
   "execution_count": 37,
   "metadata": {
    "colab": {
     "base_uri": "https://localhost:8080/"
    },
    "executionInfo": {
     "elapsed": 19933,
     "status": "ok",
     "timestamp": 1640357074590,
     "user": {
      "displayName": "李俞鋒",
      "photoUrl": "https://lh3.googleusercontent.com/a/default-user=s64",
      "userId": "09212386763051698812"
     },
     "user_tz": -480
    },
    "id": "E9Bml5DsgTRh",
    "outputId": "431fff46-a7b7-4e5b-ab0f-a1884524f4c6",
    "scrolled": true
   },
   "outputs": [
    {
     "data": {
      "text/plain": [
       "{'accuracy': 0.8580060422960725, 'loss': 0.38838021392198785}"
      ]
     },
     "execution_count": 37,
     "metadata": {},
     "output_type": "execute_result"
    }
   ],
   "source": [
    "# evaluate\n",
    "model.evaluate(train_X, train_Y)"
   ]
  },
  {
   "cell_type": "code",
   "execution_count": 42,
   "metadata": {
    "colab": {
     "base_uri": "https://localhost:8080/",
     "height": 206
    },
    "executionInfo": {
     "elapsed": 8976,
     "status": "ok",
     "timestamp": 1640357085591,
     "user": {
      "displayName": "李俞鋒",
      "photoUrl": "https://lh3.googleusercontent.com/a/default-user=s64",
      "userId": "09212386763051698812"
     },
     "user_tz": -480
    },
    "id": "K3T7PsKPgTRi",
    "outputId": "63b80ced-fe29-4e7f-a8f5-a9f9f4d0c423"
   },
   "outputs": [
    {
     "data": {
      "text/html": [
       "<div>\n",
       "<style scoped>\n",
       "    .dataframe tbody tr th:only-of-type {\n",
       "        vertical-align: middle;\n",
       "    }\n",
       "\n",
       "    .dataframe tbody tr th {\n",
       "        vertical-align: top;\n",
       "    }\n",
       "\n",
       "    .dataframe thead th {\n",
       "        text-align: right;\n",
       "    }\n",
       "</style>\n",
       "<table border=\"1\" class=\"dataframe\">\n",
       "  <thead>\n",
       "    <tr style=\"text-align: right;\">\n",
       "      <th></th>\n",
       "      <th>id</th>\n",
       "      <th>keyword</th>\n",
       "      <th>location</th>\n",
       "      <th>text</th>\n",
       "      <th>target</th>\n",
       "    </tr>\n",
       "  </thead>\n",
       "  <tbody>\n",
       "    <tr>\n",
       "      <th>0</th>\n",
       "      <td>0</td>\n",
       "      <td>NaN</td>\n",
       "      <td>NaN</td>\n",
       "      <td>Just happened a terrible car crash</td>\n",
       "      <td>1</td>\n",
       "    </tr>\n",
       "    <tr>\n",
       "      <th>1</th>\n",
       "      <td>2</td>\n",
       "      <td>NaN</td>\n",
       "      <td>NaN</td>\n",
       "      <td>Heard about #earthquake is different cities, s...</td>\n",
       "      <td>1</td>\n",
       "    </tr>\n",
       "    <tr>\n",
       "      <th>2</th>\n",
       "      <td>3</td>\n",
       "      <td>NaN</td>\n",
       "      <td>NaN</td>\n",
       "      <td>there is a forest fire at spot pond, geese are...</td>\n",
       "      <td>1</td>\n",
       "    </tr>\n",
       "    <tr>\n",
       "      <th>3</th>\n",
       "      <td>9</td>\n",
       "      <td>NaN</td>\n",
       "      <td>NaN</td>\n",
       "      <td>Apocalypse lighting. #Spokane #wildfires</td>\n",
       "      <td>1</td>\n",
       "    </tr>\n",
       "    <tr>\n",
       "      <th>4</th>\n",
       "      <td>11</td>\n",
       "      <td>NaN</td>\n",
       "      <td>NaN</td>\n",
       "      <td>Typhoon Soudelor kills 28 in China and Taiwan</td>\n",
       "      <td>1</td>\n",
       "    </tr>\n",
       "    <tr>\n",
       "      <th>...</th>\n",
       "      <td>...</td>\n",
       "      <td>...</td>\n",
       "      <td>...</td>\n",
       "      <td>...</td>\n",
       "      <td>...</td>\n",
       "    </tr>\n",
       "    <tr>\n",
       "      <th>3258</th>\n",
       "      <td>10861</td>\n",
       "      <td>NaN</td>\n",
       "      <td>NaN</td>\n",
       "      <td>EARTHQUAKE SAFETY LOS ANGELES ÛÒ SAFETY FASTE...</td>\n",
       "      <td>1</td>\n",
       "    </tr>\n",
       "    <tr>\n",
       "      <th>3259</th>\n",
       "      <td>10865</td>\n",
       "      <td>NaN</td>\n",
       "      <td>NaN</td>\n",
       "      <td>Storm in RI worse than last hurricane. My city...</td>\n",
       "      <td>1</td>\n",
       "    </tr>\n",
       "    <tr>\n",
       "      <th>3260</th>\n",
       "      <td>10868</td>\n",
       "      <td>NaN</td>\n",
       "      <td>NaN</td>\n",
       "      <td>Green Line derailment in Chicago http://t.co/U...</td>\n",
       "      <td>1</td>\n",
       "    </tr>\n",
       "    <tr>\n",
       "      <th>3261</th>\n",
       "      <td>10874</td>\n",
       "      <td>NaN</td>\n",
       "      <td>NaN</td>\n",
       "      <td>MEG issues Hazardous Weather Outlook (HWO) htt...</td>\n",
       "      <td>1</td>\n",
       "    </tr>\n",
       "    <tr>\n",
       "      <th>3262</th>\n",
       "      <td>10875</td>\n",
       "      <td>NaN</td>\n",
       "      <td>NaN</td>\n",
       "      <td>#CityofCalgary has activated its Municipal Eme...</td>\n",
       "      <td>0</td>\n",
       "    </tr>\n",
       "  </tbody>\n",
       "</table>\n",
       "<p>3263 rows × 5 columns</p>\n",
       "</div>"
      ],
      "text/plain": [
       "         id keyword location  \\\n",
       "0         0     NaN      NaN   \n",
       "1         2     NaN      NaN   \n",
       "2         3     NaN      NaN   \n",
       "3         9     NaN      NaN   \n",
       "4        11     NaN      NaN   \n",
       "...     ...     ...      ...   \n",
       "3258  10861     NaN      NaN   \n",
       "3259  10865     NaN      NaN   \n",
       "3260  10868     NaN      NaN   \n",
       "3261  10874     NaN      NaN   \n",
       "3262  10875     NaN      NaN   \n",
       "\n",
       "                                                   text  target  \n",
       "0                    Just happened a terrible car crash       1  \n",
       "1     Heard about #earthquake is different cities, s...       1  \n",
       "2     there is a forest fire at spot pond, geese are...       1  \n",
       "3              Apocalypse lighting. #Spokane #wildfires       1  \n",
       "4         Typhoon Soudelor kills 28 in China and Taiwan       1  \n",
       "...                                                 ...     ...  \n",
       "3258  EARTHQUAKE SAFETY LOS ANGELES ÛÒ SAFETY FASTE...       1  \n",
       "3259  Storm in RI worse than last hurricane. My city...       1  \n",
       "3260  Green Line derailment in Chicago http://t.co/U...       1  \n",
       "3261  MEG issues Hazardous Weather Outlook (HWO) htt...       1  \n",
       "3262  #CityofCalgary has activated its Municipal Eme...       0  \n",
       "\n",
       "[3263 rows x 5 columns]"
      ]
     },
     "execution_count": 42,
     "metadata": {},
     "output_type": "execute_result"
    }
   ],
   "source": [
    "test_Y_prob = model.predict(test_X)\n",
    "test_Y = (test_Y_prob >= 0.5).astype(int)\n",
    "testdf['target'] = test_Y.flatten()\n",
    "testdf"
   ]
  },
  {
   "cell_type": "code",
   "execution_count": 43,
   "metadata": {
    "colab": {
     "base_uri": "https://localhost:8080/",
     "height": 424
    },
    "executionInfo": {
     "elapsed": 885,
     "status": "ok",
     "timestamp": 1640357088619,
     "user": {
      "displayName": "李俞鋒",
      "photoUrl": "https://lh3.googleusercontent.com/a/default-user=s64",
      "userId": "09212386763051698812"
     },
     "user_tz": -480
    },
    "id": "xOjDVSr6gTRi",
    "outputId": "26488025-d2d1-403b-e935-2bbdcb767e4c"
   },
   "outputs": [],
   "source": [
    "submission = testdf[['id', 'target']]\n",
    "submission.to_csv('submissions/submission_lstm_2021-12-26.csv', index=False)"
   ]
  },
  {
   "cell_type": "markdown",
   "metadata": {
    "id": "pOTYYAS6gTRj"
   },
   "source": [
    "### LSTM From Tensorflow Keras\n",
    "Here we already have a from-scratch model. Want to compare with Keras model."
   ]
  },
  {
   "cell_type": "code",
   "execution_count": 44,
   "metadata": {
    "executionInfo": {
     "elapsed": 3126,
     "status": "ok",
     "timestamp": 1640357097750,
     "user": {
      "displayName": "李俞鋒",
      "photoUrl": "https://lh3.googleusercontent.com/a/default-user=s64",
      "userId": "09212386763051698812"
     },
     "user_tz": -480
    },
    "id": "R8DATUpHgTRj"
   },
   "outputs": [],
   "source": [
    "import tensorflow as tf\n",
    "from tensorflow import keras"
   ]
  },
  {
   "cell_type": "code",
   "execution_count": 45,
   "metadata": {
    "colab": {
     "base_uri": "https://localhost:8080/"
    },
    "executionInfo": {
     "elapsed": 1627,
     "status": "ok",
     "timestamp": 1640357122289,
     "user": {
      "displayName": "李俞鋒",
      "photoUrl": "https://lh3.googleusercontent.com/a/default-user=s64",
      "userId": "09212386763051698812"
     },
     "user_tz": -480
    },
    "id": "KJHRAYFlXqbo",
    "outputId": "8d9f7f0f-46ee-4bff-c144-c174433ce3f5",
    "scrolled": true
   },
   "outputs": [
    {
     "name": "stderr",
     "output_type": "stream",
     "text": [
      "2021-12-26 17:16:23.405775: I tensorflow/stream_executor/cuda/cuda_gpu_executor.cc:939] successful NUMA node read from SysFS had negative value (-1), but there must be at least one NUMA node, so returning NUMA node zero\n",
      "2021-12-26 17:16:23.406794: W tensorflow/stream_executor/platform/default/dso_loader.cc:64] Could not load dynamic library 'libcudnn.so.8'; dlerror: libcudnn.so.8: cannot open shared object file: No such file or directory\n",
      "2021-12-26 17:16:23.406837: W tensorflow/core/common_runtime/gpu/gpu_device.cc:1850] Cannot dlopen some GPU libraries. Please make sure the missing libraries mentioned above are installed properly if you would like to use GPU. Follow the guide at https://www.tensorflow.org/install/gpu for how to download and setup the required libraries for your platform.\n",
      "Skipping registering GPU devices...\n",
      "2021-12-26 17:16:23.407292: I tensorflow/core/platform/cpu_feature_guard.cc:151] This TensorFlow binary is optimized with oneAPI Deep Neural Network Library (oneDNN) to use the following CPU instructions in performance-critical operations:  AVX2 FMA\n",
      "To enable them in other operations, rebuild TensorFlow with the appropriate compiler flags.\n"
     ]
    },
    {
     "name": "stdout",
     "output_type": "stream",
     "text": [
      "Model: \"sequential\"\n",
      "_________________________________________________________________\n",
      " Layer (type)                Output Shape              Param #   \n",
      "=================================================================\n",
      " embedding (Embedding)       (None, 22, 100)           1572000   \n",
      "                                                                 \n",
      " lstm (LSTM)                 (None, 64)                42240     \n",
      "                                                                 \n",
      " dense (Dense)               (None, 1)                 65        \n",
      "                                                                 \n",
      "=================================================================\n",
      "Total params: 1,614,305\n",
      "Trainable params: 42,305\n",
      "Non-trainable params: 1,572,000\n",
      "_________________________________________________________________\n"
     ]
    }
   ],
   "source": [
    "tf_model = keras.models.Sequential(\n",
    "    [\n",
    "        keras.layers.Embedding(input_dim=emb_weights.shape[0], \n",
    "                               output_dim=emb_weights.shape[1], \n",
    "                               input_length=MAX_LEN, \n",
    "                               embeddings_initializer=tf.keras.initializers.Constant(emb_weights), \n",
    "                               trainable=False),\n",
    "        keras.layers.LSTM(units=64),\n",
    "        keras.layers.Dense(units=1, activation='sigmoid')\n",
    "    ]\n",
    ")\n",
    "\n",
    "tf_model.compile(loss=keras.losses.BinaryCrossentropy(), \n",
    "                 optimizer=keras.optimizers.Adam(), \n",
    "                 metrics=['accuracy'])\n",
    "tf_model.summary()"
   ]
  },
  {
   "cell_type": "code",
   "execution_count": null,
   "metadata": {},
   "outputs": [],
   "source": [
    "loss_func = keras.losses.BinaryCrossentropy()\n",
    "def train_by_bgd(model: keras.models.Model, X, Y, lr, epochs, metric: tf.keras.metrics.Accuracy):\n",
    "    train_data = tf.data.Dataset.from_tensor_slices((X, Y)).batch(16)\n",
    "    for epoch in range(epochs):\n",
    "        pbar = tqdm(train_data, ascii=' >=', desc=f'epoch {(epoch+1):02}/{epochs}: ', ncols=100)\n",
    "        for batch_X, batch_Y in pbar:\n",
    "            with tf.GradientTape() as tape:\n",
    "                output = model(batch_X)\n",
    "                loss = loss_func(batch_Y, output)\n",
    "\n",
    "            grads = tape.gradient(loss, model.trainable_weights)\n",
    "            # BGD\n",
    "            for i in range(len(grads)):\n",
    "                model.trainable_weights[i].assign_sub(lr * grads[i])\n",
    "        \n",
    "            metric.update_state(batch_Y, output)\n",
    "            pbar.set_postfix_str(f'accuracy: {metric.result():.4f} loss: {loss:.4f}')\n",
    "            pbar.refresh()\n",
    "        \n",
    "        pbar.set_postfix_str(f'accuracy: {metric.result():.4f} loss: {loss:.4f}')\n",
    "        metric.reset_states()"
   ]
  },
  {
   "cell_type": "code",
   "execution_count": 46,
   "metadata": {
    "scrolled": true
   },
   "outputs": [
    {
     "name": "stdout",
     "output_type": "stream",
     "text": [
      "Epoch 1/30\n",
      "476/476 [==============================] - 6s 10ms/step - loss: 0.4875 - accuracy: 0.7800\n",
      "Epoch 2/30\n",
      "476/476 [==============================] - 5s 10ms/step - loss: 0.4430 - accuracy: 0.8060\n",
      "Epoch 3/30\n",
      "476/476 [==============================] - 5s 10ms/step - loss: 0.4175 - accuracy: 0.8173\n",
      "Epoch 4/30\n",
      "476/476 [==============================] - 5s 10ms/step - loss: 0.3953 - accuracy: 0.8330\n",
      "Epoch 5/30\n",
      "476/476 [==============================] - 5s 10ms/step - loss: 0.3672 - accuracy: 0.8442\n",
      "Epoch 6/30\n",
      "476/476 [==============================] - 5s 11ms/step - loss: 0.3454 - accuracy: 0.8555\n",
      "Epoch 7/30\n",
      "476/476 [==============================] - 5s 10ms/step - loss: 0.3166 - accuracy: 0.8714\n",
      "Epoch 8/30\n",
      "476/476 [==============================] - 5s 11ms/step - loss: 0.2892 - accuracy: 0.8832\n",
      "Epoch 9/30\n",
      "476/476 [==============================] - 5s 10ms/step - loss: 0.2633 - accuracy: 0.8965\n",
      "Epoch 10/30\n",
      "476/476 [==============================] - 5s 11ms/step - loss: 0.2365 - accuracy: 0.9096\n",
      "Epoch 11/30\n",
      "476/476 [==============================] - 5s 10ms/step - loss: 0.2114 - accuracy: 0.9225\n",
      "Epoch 12/30\n",
      "476/476 [==============================] - 5s 11ms/step - loss: 0.1870 - accuracy: 0.9321\n",
      "Epoch 13/30\n",
      "476/476 [==============================] - 5s 10ms/step - loss: 0.1731 - accuracy: 0.9366\n",
      "Epoch 14/30\n",
      "476/476 [==============================] - 5s 11ms/step - loss: 0.1523 - accuracy: 0.9484\n",
      "Epoch 15/30\n",
      "476/476 [==============================] - 5s 11ms/step - loss: 0.1390 - accuracy: 0.9544\n",
      "Epoch 16/30\n",
      "476/476 [==============================] - 5s 11ms/step - loss: 0.1421 - accuracy: 0.9502\n",
      "Epoch 17/30\n",
      "476/476 [==============================] - 5s 11ms/step - loss: 0.1300 - accuracy: 0.9574\n",
      "Epoch 18/30\n",
      "476/476 [==============================] - 5s 11ms/step - loss: 0.1200 - accuracy: 0.9595\n",
      "Epoch 19/30\n",
      "476/476 [==============================] - 5s 10ms/step - loss: 0.1222 - accuracy: 0.9594\n",
      "Epoch 20/30\n",
      "476/476 [==============================] - 5s 10ms/step - loss: 0.1011 - accuracy: 0.9673\n",
      "Epoch 21/30\n",
      "476/476 [==============================] - 5s 10ms/step - loss: 0.1160 - accuracy: 0.9602\n",
      "Epoch 22/30\n",
      "476/476 [==============================] - 5s 10ms/step - loss: 0.0995 - accuracy: 0.9679\n",
      "Epoch 23/30\n",
      "476/476 [==============================] - 5s 10ms/step - loss: 0.1045 - accuracy: 0.9634\n",
      "Epoch 24/30\n",
      "476/476 [==============================] - 5s 10ms/step - loss: 0.1053 - accuracy: 0.9627\n",
      "Epoch 25/30\n",
      "476/476 [==============================] - 5s 10ms/step - loss: 0.0838 - accuracy: 0.9701\n",
      "Epoch 26/30\n",
      "476/476 [==============================] - 5s 10ms/step - loss: 0.0838 - accuracy: 0.9706\n",
      "Epoch 27/30\n",
      "476/476 [==============================] - 5s 10ms/step - loss: 0.1049 - accuracy: 0.9623\n",
      "Epoch 28/30\n",
      "476/476 [==============================] - 5s 10ms/step - loss: 0.0776 - accuracy: 0.9715\n",
      "Epoch 29/30\n",
      "476/476 [==============================] - 5s 11ms/step - loss: 0.0812 - accuracy: 0.9708\n",
      "Epoch 30/30\n",
      "476/476 [==============================] - 5s 10ms/step - loss: 0.0731 - accuracy: 0.9725\n"
     ]
    }
   ],
   "source": [
    "# train_by_bgd(tf_model, train_X, train_Y, lr=1e-2, epochs=30, metric=keras.metrics.BinaryAccuracy())\n",
    "history = tf_model.fit(train_X, train_Y, batch_size=16, epochs=30)"
   ]
  },
  {
   "cell_type": "code",
   "execution_count": 54,
   "metadata": {},
   "outputs": [],
   "source": [
    "pd.DataFrame(data=history.history).to_csv('history/history_keras_2021-12-26.csv', index=False)"
   ]
  },
  {
   "cell_type": "code",
   "execution_count": 58,
   "metadata": {
    "scrolled": false
   },
   "outputs": [
    {
     "data": {
      "image/png": "[encoded data removed]",
      "text/plain": [
       "<Figure size 864x432 with 1 Axes>"
      ]
     },
     "metadata": {
      "needs_background": "light"
     },
     "output_type": "display_data"
    }
   ],
   "source": [
    "plt.figure(figsize=(12, 6))\n",
    "plt.plot(history.history['accuracy'], 'o-', label='accuracy')\n",
    "plt.plot(history.history['loss'], 'o-', label='loss')\n",
    "plt.legend()\n",
    "plt.grid()\n",
    "plt.xticks(np.arange(30, step=1), np.arange(1, 31, step=1))\n",
    "plt.yticks(np.arange(0., 1., step=0.1))\n",
    "plt.xlabel('epochs')\n",
    "plt.title('Performance of LSTM(Keras)', fontdict=dict(fontsize=16))\n",
    "plt.show()"
   ]
  },
  {
   "cell_type": "code",
   "execution_count": 50,
   "metadata": {
    "colab": {
     "base_uri": "https://localhost:8080/",
     "height": 424
    },
    "executionInfo": {
     "elapsed": 1011,
     "status": "ok",
     "timestamp": 1640357583856,
     "user": {
      "displayName": "李俞鋒",
      "photoUrl": "https://lh3.googleusercontent.com/a/default-user=s64",
      "userId": "09212386763051698812"
     },
     "user_tz": -480
    },
    "id": "TT37S8Or6HG4",
    "outputId": "015ea337-18af-4e91-a3d7-856ad74e3a88"
   },
   "outputs": [
    {
     "data": {
      "text/html": [
       "<div>\n",
       "<style scoped>\n",
       "    .dataframe tbody tr th:only-of-type {\n",
       "        vertical-align: middle;\n",
       "    }\n",
       "\n",
       "    .dataframe tbody tr th {\n",
       "        vertical-align: top;\n",
       "    }\n",
       "\n",
       "    .dataframe thead th {\n",
       "        text-align: right;\n",
       "    }\n",
       "</style>\n",
       "<table border=\"1\" class=\"dataframe\">\n",
       "  <thead>\n",
       "    <tr style=\"text-align: right;\">\n",
       "      <th></th>\n",
       "      <th>id</th>\n",
       "      <th>keyword</th>\n",
       "      <th>location</th>\n",
       "      <th>text</th>\n",
       "      <th>target</th>\n",
       "    </tr>\n",
       "  </thead>\n",
       "  <tbody>\n",
       "    <tr>\n",
       "      <th>0</th>\n",
       "      <td>0</td>\n",
       "      <td>NaN</td>\n",
       "      <td>NaN</td>\n",
       "      <td>Just happened a terrible car crash</td>\n",
       "      <td>1</td>\n",
       "    </tr>\n",
       "    <tr>\n",
       "      <th>1</th>\n",
       "      <td>2</td>\n",
       "      <td>NaN</td>\n",
       "      <td>NaN</td>\n",
       "      <td>Heard about #earthquake is different cities, s...</td>\n",
       "      <td>1</td>\n",
       "    </tr>\n",
       "    <tr>\n",
       "      <th>2</th>\n",
       "      <td>3</td>\n",
       "      <td>NaN</td>\n",
       "      <td>NaN</td>\n",
       "      <td>there is a forest fire at spot pond, geese are...</td>\n",
       "      <td>1</td>\n",
       "    </tr>\n",
       "    <tr>\n",
       "      <th>3</th>\n",
       "      <td>9</td>\n",
       "      <td>NaN</td>\n",
       "      <td>NaN</td>\n",
       "      <td>Apocalypse lighting. #Spokane #wildfires</td>\n",
       "      <td>1</td>\n",
       "    </tr>\n",
       "    <tr>\n",
       "      <th>4</th>\n",
       "      <td>11</td>\n",
       "      <td>NaN</td>\n",
       "      <td>NaN</td>\n",
       "      <td>Typhoon Soudelor kills 28 in China and Taiwan</td>\n",
       "      <td>1</td>\n",
       "    </tr>\n",
       "    <tr>\n",
       "      <th>...</th>\n",
       "      <td>...</td>\n",
       "      <td>...</td>\n",
       "      <td>...</td>\n",
       "      <td>...</td>\n",
       "      <td>...</td>\n",
       "    </tr>\n",
       "    <tr>\n",
       "      <th>3258</th>\n",
       "      <td>10861</td>\n",
       "      <td>NaN</td>\n",
       "      <td>NaN</td>\n",
       "      <td>EARTHQUAKE SAFETY LOS ANGELES ÛÒ SAFETY FASTE...</td>\n",
       "      <td>1</td>\n",
       "    </tr>\n",
       "    <tr>\n",
       "      <th>3259</th>\n",
       "      <td>10865</td>\n",
       "      <td>NaN</td>\n",
       "      <td>NaN</td>\n",
       "      <td>Storm in RI worse than last hurricane. My city...</td>\n",
       "      <td>1</td>\n",
       "    </tr>\n",
       "    <tr>\n",
       "      <th>3260</th>\n",
       "      <td>10868</td>\n",
       "      <td>NaN</td>\n",
       "      <td>NaN</td>\n",
       "      <td>Green Line derailment in Chicago http://t.co/U...</td>\n",
       "      <td>1</td>\n",
       "    </tr>\n",
       "    <tr>\n",
       "      <th>3261</th>\n",
       "      <td>10874</td>\n",
       "      <td>NaN</td>\n",
       "      <td>NaN</td>\n",
       "      <td>MEG issues Hazardous Weather Outlook (HWO) htt...</td>\n",
       "      <td>1</td>\n",
       "    </tr>\n",
       "    <tr>\n",
       "      <th>3262</th>\n",
       "      <td>10875</td>\n",
       "      <td>NaN</td>\n",
       "      <td>NaN</td>\n",
       "      <td>#CityofCalgary has activated its Municipal Eme...</td>\n",
       "      <td>1</td>\n",
       "    </tr>\n",
       "  </tbody>\n",
       "</table>\n",
       "<p>3263 rows × 5 columns</p>\n",
       "</div>"
      ],
      "text/plain": [
       "         id keyword location  \\\n",
       "0         0     NaN      NaN   \n",
       "1         2     NaN      NaN   \n",
       "2         3     NaN      NaN   \n",
       "3         9     NaN      NaN   \n",
       "4        11     NaN      NaN   \n",
       "...     ...     ...      ...   \n",
       "3258  10861     NaN      NaN   \n",
       "3259  10865     NaN      NaN   \n",
       "3260  10868     NaN      NaN   \n",
       "3261  10874     NaN      NaN   \n",
       "3262  10875     NaN      NaN   \n",
       "\n",
       "                                                   text  target  \n",
       "0                    Just happened a terrible car crash       1  \n",
       "1     Heard about #earthquake is different cities, s...       1  \n",
       "2     there is a forest fire at spot pond, geese are...       1  \n",
       "3              Apocalypse lighting. #Spokane #wildfires       1  \n",
       "4         Typhoon Soudelor kills 28 in China and Taiwan       1  \n",
       "...                                                 ...     ...  \n",
       "3258  EARTHQUAKE SAFETY LOS ANGELES ÛÒ SAFETY FASTE...       1  \n",
       "3259  Storm in RI worse than last hurricane. My city...       1  \n",
       "3260  Green Line derailment in Chicago http://t.co/U...       1  \n",
       "3261  MEG issues Hazardous Weather Outlook (HWO) htt...       1  \n",
       "3262  #CityofCalgary has activated its Municipal Eme...       1  \n",
       "\n",
       "[3263 rows x 5 columns]"
      ]
     },
     "execution_count": 50,
     "metadata": {},
     "output_type": "execute_result"
    }
   ],
   "source": [
    "test_Y_prob = tf_model.predict(test_X)\n",
    "test_Y = (test_Y_prob >= 0.5).astype(int)\n",
    "testdf['target'] = test_Y.flatten()\n",
    "testdf"
   ]
  },
  {
   "cell_type": "code",
   "execution_count": 53,
   "metadata": {
    "executionInfo": {
     "elapsed": 515,
     "status": "ok",
     "timestamp": 1640357613821,
     "user": {
      "displayName": "李俞鋒",
      "photoUrl": "https://lh3.googleusercontent.com/a/default-user=s64",
      "userId": "09212386763051698812"
     },
     "user_tz": -480
    },
    "id": "kNYeNeqA7mYY"
   },
   "outputs": [],
   "source": [
    "submission = pd.DataFrame(data={'id': testdf['id'].values, 'target': test_Y.flatten()})\n",
    "submission.to_csv('submissions/submission_keras_2021-12-26.csv', index=False)"
   ]
  },
  {
   "cell_type": "markdown",
   "metadata": {
    "id": "S-aO4RZjqWSC"
   },
   "source": [
    "## References\n",
    "- [LSTM - Wikipedia](https://en.wikipedia.org/wiki/Long_short-term_memory#LSTM_with_a_forget_gate)\n",
    "- [LSTM - Keras](https://keras.io/api/layers/recurrent_layers/lstm/)\n",
    "- [LSTM: A Search Space Odyssey - arxiv.org](https://arxiv.org/abs/1503.04069v2)\n",
    "- [How LSTM solved vanishing gradients](https://medium.datadriveninvestor.com/how-do-lstm-networks-solve-the-problem-of-vanishing-gradients-a6784971a577)\n",
    "- [Intro to optimization in deep learning](https://blog.paperspace.com/intro-to-optimization-in-deep-learning-gradient-descent/)\n",
    "- [LSTM Optimizer Choice](https://deepdatascience.wordpress.com/2016/11/18/which-lstm-optimizer-to-use)\n",
    "- [Adam: A Method for Stochastic Optimization - arxiv.org](https://arxiv.org/abs/1412.6980)\n",
    "- [Stanford GloVe - Official Website](https://nlp.stanford.edu/projects/glove/)\n",
    "- [Stanford GloVe - Jeffrey Pennington, Richard Socher, and Christopher D. Manning. 2014](https://nlp.stanford.edu/pubs/glove.pdf)"
   ]
  }
 ],
 "metadata": {
  "accelerator": "GPU",
  "colab": {
   "collapsed_sections": [],
   "name": "ML Final Project - Disaster Tweets.ipynb",
   "provenance": [],
   "toc_visible": true
  },
  "kernelspec": {
   "display_name": "ml",
   "language": "python",
   "name": "ml"
  },
  "language_info": {
   "codemirror_mode": {
    "name": "ipython",
    "version": 3
   },
   "file_extension": ".py",
   "mimetype": "text/x-python",
   "name": "python",
   "nbconvert_exporter": "python",
   "pygments_lexer": "ipython3",
   "version": "3.9.7"
  }
 },
 "nbformat": 4,
 "nbformat_minor": 1
}
