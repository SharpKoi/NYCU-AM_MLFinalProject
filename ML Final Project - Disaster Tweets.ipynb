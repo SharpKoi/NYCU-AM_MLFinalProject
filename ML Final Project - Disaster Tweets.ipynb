{
 "cells": [
  {
   "cell_type": "markdown",
   "metadata": {
    "id": "sV8VAfuwwdXp"
   },
   "source": [
    "## Machine Learning Final Project - Disaster Tweets \n",
    "0612201 YuFeng-Li  \n",
    "kaggle: https://www.kaggle.com/c/nlp-getting-started  \n",
    "This topic is to detect which post on tweeter is about **disasters** or **accidents** and which is not.  \n",
    "  \n"
   ]
  },
  {
   "cell_type": "markdown",
   "metadata": {
    "id": "7HsiTH2d9W8H"
   },
   "source": [
    "## Note\n",
    "在開始訓練前我們需要關心:\n",
    "1. keyword和location是否重要？\n",
    "2. text欄位中哪些是停用詞？\n",
    "3. GloVe的預訓練詞向量是什麼時候訓練的？\n",
    "4. 文本中哪些詞是預訓練詞向量中沒有的（OOV）？\n",
    "5. OOV的向量如何決定？ 如何在訓練過程中更新詞向量？\n",
    "\n",
    "流程:  \n",
    "data > data cleaning > tokenize > stopwords > glove embedding matrix > LSTM > evaluation & prediction"
   ]
  },
  {
   "cell_type": "markdown",
   "metadata": {
    "id": "Xht_s1B_w8Fr"
   },
   "source": [
    "## Setup environment\n",
    "This notebook is suggested to run on google colab since it will need to install some third-party packages on your environment.\n",
    "### Requirements\n",
    "- Windows/Linux/MacOS (Native Linux)\n",
    "- Python 3.7+\n",
    "- ⚠️ **Highly recommend running on google colab**"
   ]
  },
  {
   "cell_type": "code",
   "execution_count": null,
   "metadata": {
    "colab": {
     "base_uri": "https://localhost:8080/"
    },
    "executionInfo": {
     "elapsed": 6023,
     "status": "ok",
     "timestamp": 1639377706234,
     "user": {
      "displayName": "李俞鋒",
      "photoUrl": "https://lh3.googleusercontent.com/a/default-user=s64",
      "userId": "09212386763051698812"
     },
     "user_tz": -480
    },
    "id": "VqwVfLMy1jad",
    "outputId": "7bf9d964-69d0-42ed-d210-10d10939f0cd",
    "scrolled": true
   },
   "outputs": [],
   "source": [
    "# Install additional tools. All of these are used on data cleaning and some pre-processing.\n",
    "# Those about machine learning will be coded from scratch with only numpy.\n",
    "# If you have installed on your computer then skip it.\n",
    "\n",
    "# !sudo apt-get install swig\n",
    "!pip install cupy pandas sklearn nltk tqdm emoji\n",
    "\n",
    "import nltk\n",
    "nltk.download('stopwords')"
   ]
  },
  {
   "cell_type": "code",
   "execution_count": 1,
   "metadata": {
    "executionInfo": {
     "elapsed": 5965,
     "status": "ok",
     "timestamp": 1639377712189,
     "user": {
      "displayName": "李俞鋒",
      "photoUrl": "https://lh3.googleusercontent.com/a/default-user=s64",
      "userId": "09212386763051698812"
     },
     "user_tz": -480
    },
    "id": "66RXPGizqjuL"
   },
   "outputs": [],
   "source": [
    "import os\n",
    "import re\n",
    "import cupy as cp\n",
    "import numpy as np\n",
    "import pandas as pd\n",
    "\n",
    "import matplotlib.pyplot as plt\n",
    "\n",
    "from myutils import Tokenizer, load_weights, pad_sequences\n",
    "\n",
    "from sproutnet.nn.model import Model\n",
    "from sproutnet.nn.layers import Embedding, LSTM, Linear, Activation\n",
    "from sproutnet.nn.activator import sigmoid\n",
    "from sproutnet.nn.loss import binary_cross_entropy\n",
    "from sproutnet.nn.metric import BinaryAccuracy\n",
    "from sproutnet.nn.initializer import GlorotUniform, Orthogonal"
   ]
  },
  {
   "cell_type": "code",
   "execution_count": null,
   "metadata": {
    "executionInfo": {
     "elapsed": 26,
     "status": "ok",
     "timestamp": 1639377712190,
     "user": {
      "displayName": "李俞鋒",
      "photoUrl": "https://lh3.googleusercontent.com/a/default-user=s64",
      "userId": "09212386763051698812"
     },
     "user_tz": -480
    },
    "id": "CMLk3AHbwcoM"
   },
   "outputs": [],
   "source": [
    "# used on google colab if needed.\n",
    "# os.chdir('drive/MyDrive/ML/final-project')"
   ]
  },
  {
   "cell_type": "code",
   "execution_count": 2,
   "metadata": {},
   "outputs": [],
   "source": [
    "# enable your GPU for cupy\n",
    "os.environ['CUDA_DEVICE_ORDER'] = 'PCI_BUS_ID'\n",
    "os.environ['CUDA_VISIBLE_DEVICES'] = '0'"
   ]
  },
  {
   "cell_type": "markdown",
   "metadata": {
    "id": "RCsF-As8xYOY"
   },
   "source": [
    "## Read data\n",
    "Read the data and observe it.  \n",
    "Notice that the most important informations are the **columns**, **labels** and **size**.  \n",
    "\n",
    "We need to know which columns are important features and the relationship between two or more columns.  \n",
    "\n",
    "Moreover, check how many unique labels there are, and also the number of each label. In most cases, models are not able to learn from rare occurring labels, which case is called **\"class imbalance\"**. Thus it's necessary to give the rare classes more weights.  \n",
    "\n",
    "Last but not least, the bigger the data is, the more noises there are. Some data is less important and may have interference on training. It's recommended to get ride of them if necessary."
   ]
  },
  {
   "cell_type": "code",
   "execution_count": 37,
   "metadata": {
    "colab": {
     "base_uri": "https://localhost:8080/",
     "height": 293
    },
    "executionInfo": {
     "elapsed": 1035,
     "status": "ok",
     "timestamp": 1639377715702,
     "user": {
      "displayName": "李俞鋒",
      "photoUrl": "https://lh3.googleusercontent.com/a/default-user=s64",
      "userId": "09212386763051698812"
     },
     "user_tz": -480
    },
    "id": "bB0W6kf5r2wF",
    "outputId": "cbb6e9b0-72b4-44ae-d346-ac4f2895fd34"
   },
   "outputs": [
    {
     "name": "stdout",
     "output_type": "stream",
     "text": [
      "# of Tweets: 7613\n",
      "columns: ['id', 'keyword', 'location', 'text', 'target']\n",
      "labels: [1 0]\n",
      "counts of each label: {0: 4342, 1: 3271}\n",
      "score baseline: 0.5703\n",
      "\n"
     ]
    },
    {
     "data": {
      "text/html": [
       "<div>\n",
       "<style scoped>\n",
       "    .dataframe tbody tr th:only-of-type {\n",
       "        vertical-align: middle;\n",
       "    }\n",
       "\n",
       "    .dataframe tbody tr th {\n",
       "        vertical-align: top;\n",
       "    }\n",
       "\n",
       "    .dataframe thead th {\n",
       "        text-align: right;\n",
       "    }\n",
       "</style>\n",
       "<table border=\"1\" class=\"dataframe\">\n",
       "  <thead>\n",
       "    <tr style=\"text-align: right;\">\n",
       "      <th></th>\n",
       "      <th>id</th>\n",
       "      <th>keyword</th>\n",
       "      <th>location</th>\n",
       "      <th>text</th>\n",
       "      <th>target</th>\n",
       "    </tr>\n",
       "  </thead>\n",
       "  <tbody>\n",
       "    <tr>\n",
       "      <th>5149</th>\n",
       "      <td>7343</td>\n",
       "      <td>nuclear%20reactor</td>\n",
       "      <td>Virginia</td>\n",
       "      <td>HamptonRoadsFor.me US Navy Sidelines 3 Newest ...</td>\n",
       "      <td>0</td>\n",
       "    </tr>\n",
       "    <tr>\n",
       "      <th>5185</th>\n",
       "      <td>7402</td>\n",
       "      <td>obliterated</td>\n",
       "      <td>NaN</td>\n",
       "      <td>Damnnnn $GMCR got obliterated -26% ;that shoul...</td>\n",
       "      <td>0</td>\n",
       "    </tr>\n",
       "    <tr>\n",
       "      <th>7094</th>\n",
       "      <td>10163</td>\n",
       "      <td>violent%20storm</td>\n",
       "      <td>Yuuko-san's shop</td>\n",
       "      <td>Rather violent storm. Possibility of no stream...</td>\n",
       "      <td>1</td>\n",
       "    </tr>\n",
       "    <tr>\n",
       "      <th>74</th>\n",
       "      <td>107</td>\n",
       "      <td>accident</td>\n",
       "      <td>North Carolina</td>\n",
       "      <td>I-77 Mile Marker 31 South Mooresville  Iredell...</td>\n",
       "      <td>1</td>\n",
       "    </tr>\n",
       "    <tr>\n",
       "      <th>310</th>\n",
       "      <td>453</td>\n",
       "      <td>armageddon</td>\n",
       "      <td>NaN</td>\n",
       "      <td>Red Faction: Armageddon  (Microsoft Xbox 360 2...</td>\n",
       "      <td>0</td>\n",
       "    </tr>\n",
       "  </tbody>\n",
       "</table>\n",
       "</div>"
      ],
      "text/plain": [
       "         id            keyword          location  \\\n",
       "5149   7343  nuclear%20reactor          Virginia   \n",
       "5185   7402        obliterated               NaN   \n",
       "7094  10163    violent%20storm  Yuuko-san's shop   \n",
       "74      107           accident    North Carolina   \n",
       "310     453         armageddon               NaN   \n",
       "\n",
       "                                                   text  target  \n",
       "5149  HamptonRoadsFor.me US Navy Sidelines 3 Newest ...       0  \n",
       "5185  Damnnnn $GMCR got obliterated -26% ;that shoul...       0  \n",
       "7094  Rather violent storm. Possibility of no stream...       1  \n",
       "74    I-77 Mile Marker 31 South Mooresville  Iredell...       1  \n",
       "310   Red Faction: Armageddon  (Microsoft Xbox 360 2...       0  "
      ]
     },
     "execution_count": 37,
     "metadata": {},
     "output_type": "execute_result"
    }
   ],
   "source": [
    "# here we read the training data and observe its length, columns, labels\n",
    "traindf = pd.read_csv('data/train.csv')\n",
    "labels_count = traindf[\"target\"].value_counts()\n",
    "# summary\n",
    "print(f'# of Tweets: {len(traindf)}')\n",
    "print(f'columns: {traindf.columns.tolist()}')\n",
    "print(f'labels: {traindf[\"target\"].unique()}')\n",
    "print(f'counts of each label: {labels_count.to_dict()}')\n",
    "print(f'score baseline: {(labels_count.max() / labels_count.sum()):.4f}')\n",
    "print()\n",
    "\n",
    "traindf.sample(5)"
   ]
  },
  {
   "cell_type": "code",
   "execution_count": 4,
   "metadata": {},
   "outputs": [
    {
     "name": "stdout",
     "output_type": "stream",
     "text": [
      "# of Tweets: 3263\n",
      "columns: ['id', 'keyword', 'location', 'text']\n",
      "\n"
     ]
    },
    {
     "data": {
      "text/html": [
       "<div>\n",
       "<style scoped>\n",
       "    .dataframe tbody tr th:only-of-type {\n",
       "        vertical-align: middle;\n",
       "    }\n",
       "\n",
       "    .dataframe tbody tr th {\n",
       "        vertical-align: top;\n",
       "    }\n",
       "\n",
       "    .dataframe thead th {\n",
       "        text-align: right;\n",
       "    }\n",
       "</style>\n",
       "<table border=\"1\" class=\"dataframe\">\n",
       "  <thead>\n",
       "    <tr style=\"text-align: right;\">\n",
       "      <th></th>\n",
       "      <th>id</th>\n",
       "      <th>keyword</th>\n",
       "      <th>location</th>\n",
       "      <th>text</th>\n",
       "    </tr>\n",
       "  </thead>\n",
       "  <tbody>\n",
       "    <tr>\n",
       "      <th>793</th>\n",
       "      <td>2610</td>\n",
       "      <td>crashed</td>\n",
       "      <td>NaN</td>\n",
       "      <td>Rip to whoevers face that crashed in front of ...</td>\n",
       "    </tr>\n",
       "    <tr>\n",
       "      <th>2194</th>\n",
       "      <td>7346</td>\n",
       "      <td>obliterate</td>\n",
       "      <td>Orlando, FL</td>\n",
       "      <td>@TrinityFox_ he would obliterate anyone who ge...</td>\n",
       "    </tr>\n",
       "    <tr>\n",
       "      <th>2585</th>\n",
       "      <td>8611</td>\n",
       "      <td>seismic</td>\n",
       "      <td>NaN</td>\n",
       "      <td>My brain feels like it's vibrating inside my s...</td>\n",
       "    </tr>\n",
       "    <tr>\n",
       "      <th>3083</th>\n",
       "      <td>10216</td>\n",
       "      <td>volcano</td>\n",
       "      <td>New York</td>\n",
       "      <td>Force Factor VOLCANO 120 Capsule Brand New  - ...</td>\n",
       "    </tr>\n",
       "    <tr>\n",
       "      <th>3052</th>\n",
       "      <td>10104</td>\n",
       "      <td>typhoon</td>\n",
       "      <td>United States</td>\n",
       "      <td>#abc Obama Declares Disaster for Typhoon-Devas...</td>\n",
       "    </tr>\n",
       "  </tbody>\n",
       "</table>\n",
       "</div>"
      ],
      "text/plain": [
       "         id     keyword       location  \\\n",
       "793    2610     crashed            NaN   \n",
       "2194   7346  obliterate   Orlando, FL    \n",
       "2585   8611     seismic            NaN   \n",
       "3083  10216     volcano       New York   \n",
       "3052  10104     typhoon  United States   \n",
       "\n",
       "                                                   text  \n",
       "793   Rip to whoevers face that crashed in front of ...  \n",
       "2194  @TrinityFox_ he would obliterate anyone who ge...  \n",
       "2585  My brain feels like it's vibrating inside my s...  \n",
       "3083  Force Factor VOLCANO 120 Capsule Brand New  - ...  \n",
       "3052  #abc Obama Declares Disaster for Typhoon-Devas...  "
      ]
     },
     "execution_count": 4,
     "metadata": {},
     "output_type": "execute_result"
    }
   ],
   "source": [
    "testdf = pd.read_csv('data/test.csv')\n",
    "\n",
    "# summary\n",
    "print(f'# of Tweets: {len(testdf)}')\n",
    "print(f'columns: {testdf.columns.tolist()}')\n",
    "print()\n",
    "\n",
    "testdf.sample(5)"
   ]
  },
  {
   "cell_type": "markdown",
   "metadata": {
    "id": "FO532u_QF8Vf"
   },
   "source": [
    "Fortunately, the training data seems not large. And the labels are balanced enough (0.57 : 0.43).  \n",
    "The only thing we need to look out for is that the columns `keyword` and `location` may be a good feature."
   ]
  },
  {
   "cell_type": "markdown",
   "metadata": {},
   "source": [
    "<div class=\"alert alert-block alert-warning\">\n",
    "    <b>💡 If you have done tokenization before, please go <a href=\"#Read-tokenized-corpus\">here</a> to read the pre-tokenized corpus.</b>\n",
    "</div>"
   ]
  },
  {
   "cell_type": "markdown",
   "metadata": {},
   "source": [
    "## Ngram Analysis\n",
    "Let's do a bigram(n=2) analysis on our corpus to see the top common words."
   ]
  },
  {
   "cell_type": "code",
   "execution_count": null,
   "metadata": {},
   "outputs": [],
   "source": [
    "# 偷懶用一下sklearn的分析工具\n",
    "from sklearn.feature_extraction.text import CountVectorizer\n",
    "\n",
    "def top_bigrams(corpus, n_top=10) -> Dict[str, int]:\n",
    "    vec = CountVectorizer(ngram_range=(2, 2))\n",
    "    bow = vec.fit_transform(corpus)\n",
    "    word_counts = bow.sum(axis=0)\n",
    "    words_freq = [(word, word_counts[0, idx]) for word, idx in vec.vocabulary_.items()]\n",
    "    words_freq = sorted(words_freq, key = lambda kv: kv[1], reverse=True)\n",
    "    \n",
    "    return dict(words_freq[:n_top])"
   ]
  },
  {
   "cell_type": "code",
   "execution_count": null,
   "metadata": {},
   "outputs": [],
   "source": [
    "print('=== training corpus ===')\n",
    "for k, v in top_bigrams(traindf['text'].values).items():\n",
    "    print(f'{k}: {v}')\n",
    "    \n",
    "print('\\n=== testing corpus ===')\n",
    "for k, v in top_bigrams(testdf['text'].values).items():\n",
    "    print(f'{k}: {v}')"
   ]
  },
  {
   "cell_type": "markdown",
   "metadata": {},
   "source": [
    "Obviousely there are so many url and meaningless words(called stopwords).  \n",
    "We will need to remove url and those stopwords."
   ]
  },
  {
   "cell_type": "markdown",
   "metadata": {},
   "source": [
    "## Data cleaning\n",
    "- lower casing\n",
    "- HTML\n",
    "    - recover html formatted symbols\n",
    "    - remove html tags\n",
    "- remove url\n",
    "- remove emoji\n",
    "- remove punctuations\n",
    "- correct spelling\n",
    "- remove stopwords"
   ]
  },
  {
   "cell_type": "markdown",
   "metadata": {},
   "source": [
    "### Lower casing"
   ]
  },
  {
   "cell_type": "code",
   "execution_count": null,
   "metadata": {},
   "outputs": [],
   "source": [
    "traindf.loc[:, 'text'] = traindf['text'].str.lower()\n",
    "testdf.loc[:, 'text'] = testdf['text'].str.lower()"
   ]
  },
  {
   "cell_type": "markdown",
   "metadata": {},
   "source": [
    "### Recover html formatted symbols\n",
    "Some words in tweets are html formatted, i.e `%20`, `&amp;`, ...etc.  \n",
    "We should recover them."
   ]
  },
  {
   "cell_type": "code",
   "execution_count": null,
   "metadata": {},
   "outputs": [],
   "source": [
    "traindf.loc[:, 'text'] = traindf['text'].str \\\n",
    "                         .replace('%20', ' ').str \\\n",
    "                         .replace('&amp;', '&').str \\\n",
    "                         .replace('\\x89û', ' ').str \\\n",
    "                         .replace('\\x89', ' ').str \\\n",
    "                         .replace('\\\\', '')\n",
    "testdf.loc[:, 'text'] = testdf['text'].str \\\n",
    "                        .replace('%20', ' ').str \\\n",
    "                        .replace('&amp;', '&').str \\\n",
    "                        .replace('\\\\x89û', ' ').str \\\n",
    "                        .replace('\\\\x89', ' ').str \\\n",
    "                        .replace('\\\\', '')"
   ]
  },
  {
   "cell_type": "markdown",
   "metadata": {},
   "source": [
    "### Remove html tags\n",
    "Since the tweets are crawled from website, maybe some html tags remain in the data."
   ]
  },
  {
   "cell_type": "code",
   "execution_count": null,
   "metadata": {},
   "outputs": [],
   "source": [
    "def remove_html_tags(text: str):\n",
    "    html_tags_filter = re.compile(r'<.+>')\n",
    "    return html_tags_filter.sub(r'',text)\n",
    "        \n",
    "traindf.loc[:, 'text'] = traindf['text'].apply(remove_html_tags)\n",
    "testdf.loc[:, 'text'] = testdf['text'].apply(remove_html_tags)"
   ]
  },
  {
   "cell_type": "markdown",
   "metadata": {},
   "source": [
    "### Remove URL"
   ]
  },
  {
   "cell_type": "code",
   "execution_count": null,
   "metadata": {
    "scrolled": true
   },
   "outputs": [],
   "source": [
    "def remove_url(text: str):\n",
    "    url_filter = re.compile(r'[a-zA-Z]+://\\S+')\n",
    "    return url_filter.sub(r'', text)\n",
    "    \n",
    "traindf.loc[:, 'text'] = traindf['text'].apply(remove_url)\n",
    "testdf.loc[:, 'text'] = testdf['text'].apply(remove_url)"
   ]
  },
  {
   "cell_type": "markdown",
   "metadata": {},
   "source": [
    "### Remove emoji\n",
    "The emoji may be related to sentiment. But is not meaningful to disaster tweets."
   ]
  },
  {
   "cell_type": "code",
   "execution_count": null,
   "metadata": {
    "scrolled": true
   },
   "outputs": [],
   "source": [
    "import emoji\n",
    "\n",
    "def remove_emoji(text: str):\n",
    "    return emoji.get_emoji_regexp().sub(r'', text)\n",
    "    \n",
    "traindf.loc[:, 'text'] = traindf['text'].apply(remove_emoji)\n",
    "testdf.loc[:, 'text'] = testdf['text'].apply(remove_emoji)"
   ]
  },
  {
   "cell_type": "markdown",
   "metadata": {},
   "source": [
    "### Remove punctuations\n",
    "The symbols are meaningless."
   ]
  },
  {
   "cell_type": "code",
   "execution_count": null,
   "metadata": {},
   "outputs": [],
   "source": [
    "# here we use the python string built-in punctuations.\n",
    "import string\n",
    "\n",
    "string.punctuation"
   ]
  },
  {
   "cell_type": "code",
   "execution_count": null,
   "metadata": {
    "scrolled": true
   },
   "outputs": [],
   "source": [
    "def remove_punctuations(text: str):\n",
    "    punc_filter = re.compile(f'[{string.punctuation}]')\n",
    "    return punc_filter.sub(' ', text)\n",
    "    \n",
    "traindf.loc[:, 'text'] = traindf['text'].apply(remove_punctuations)\n",
    "testdf.loc[:, 'text'] = testdf['text'].apply(remove_punctuations)"
   ]
  },
  {
   "cell_type": "markdown",
   "metadata": {},
   "source": [
    "Notice that we have not correct spellings and removed stopwords yet. It will be done by tokenization."
   ]
  },
  {
   "cell_type": "markdown",
   "metadata": {
    "id": "vEi0BWdP9T9g"
   },
   "source": [
    "## Tokenization\n",
    "Consider the column `text`.  \n",
    "We need to tokenize the texts into words and use pre-trained word vectors to do embedding.  \n",
    "The most recommended way to do tokenization is to use the tokenizer corresponding to the pre-trained word vectors model we chose.  \n",
    "Below are word vectors model we would choose.\n",
    "\n",
    "### Glove  \n",
    "Developed by Stanford in 2014.  \n",
    "The tokenizer would be the tool recommended by Stanford GloVe developers - Stanford EnglishTokenizer, which is under this project [CoreNLP](https://github.com/stanfordnlp/CoreNLP).\n",
    "\n",
    "### Fasttext\n",
    "Developed by Facebook in 2016.\n",
    "\n",
    "### Third-party Tokenizers\n",
    "- vanilla tokenizer (split by spaces)\n",
    "- [spaCy tokenizer](https://spacy.io/api/tokenizer)\n",
    "- [tensorflow tokenizer](https://www.tensorflow.org/api_docs/python/tf/keras/preprocessing/text/Tokenizer)"
   ]
  },
  {
   "cell_type": "code",
   "execution_count": null,
   "metadata": {
    "colab": {
     "base_uri": "https://localhost:8080/",
     "height": 66,
     "referenced_widgets": [
      "1587c7929e4a48c3994b78a3a695344a",
      "5b65447936424a1ab6b9545cbd813776",
      "01138a7f1a9940268648f742166f70ce",
      "150af8f7f0e4405a83760600c5c619bf",
      "39795bb036034696a4da0ace34c74377",
      "ab7641dc7e42478bb7ffd810ed3f8a98",
      "94f48e279ef64d5bbb7bfe0a858c3223",
      "b99a67c5a8524f24b0ad516635bd7123",
      "f21f0ca1cbd34cb3877381fc30027b23",
      "288e2c567415457da4acbda51b27a554",
      "83e775d2daf24c1581966416d4a7b966"
     ]
    },
    "executionInfo": {
     "elapsed": 206730,
     "status": "ok",
     "timestamp": 1639377945545,
     "user": {
      "displayName": "李俞鋒",
      "photoUrl": "https://lh3.googleusercontent.com/a/default-user=s64",
      "userId": "09212386763051698812"
     },
     "user_tz": -480
    },
    "id": "CKJAjYMJX_7C",
    "outputId": "1c410f0a-23fd-4442-8b7b-5df98ebbed24",
    "scrolled": true
   },
   "outputs": [],
   "source": [
    "from nltk.corpus import stopwords\n",
    "\n",
    "# stanza.download()\n",
    "# nlp = stanza.Pipeline(processors='tokenize')\n",
    "\n",
    "# it will take about half of an hour to do tokenization.\n",
    "tokenizer = Tokenizer(tool=str.split)\n",
    "corpus_tokens = tokenizer.fit([traindf['text'].values, testdf['text'].values], stopwords.words('english'))\n",
    "train_tokens, test_tokens = corpus_tokens\n",
    "\n",
    "# save tokenized corpus\n",
    "# write_corpus(corpus_tokens, 'data/corpus.txt')\n",
    "tokenizer.save('data/')"
   ]
  },
  {
   "cell_type": "markdown",
   "metadata": {},
   "source": [
    "### Read tokenized corpus"
   ]
  },
  {
   "cell_type": "code",
   "execution_count": 5,
   "metadata": {},
   "outputs": [],
   "source": [
    "# read tokenized corpus\n",
    "tokenizer = Tokenizer(tool=str.split)\n",
    "corpus_tokens = tokenizer.load('data/')\n",
    "train_tokens, test_tokens = corpus_tokens"
   ]
  },
  {
   "cell_type": "code",
   "execution_count": 6,
   "metadata": {
    "colab": {
     "base_uri": "https://localhost:8080/"
    },
    "executionInfo": {
     "elapsed": 356,
     "status": "ok",
     "timestamp": 1639377948140,
     "user": {
      "displayName": "李俞鋒",
      "photoUrl": "https://lh3.googleusercontent.com/a/default-user=s64",
      "userId": "09212386763051698812"
     },
     "user_tz": -480
    },
    "id": "QOSwKcbO3-ox",
    "outputId": "815679dd-e897-45d6-a7af-a1359478259c"
   },
   "outputs": [
    {
     "name": "stdout",
     "output_type": "stream",
     "text": [
      "=== Tokenized Training Corpus ===\n",
      "# of vocab: 15719\n",
      "max sequence length: 21\n",
      "min sequence length: 1\n",
      "avg sequence length: 8.874031262314462\n",
      "\n",
      "=== Tokenized Testing Corpus ===\n",
      "# of vocab: 15719\n",
      "max sequence length: 22\n",
      "min sequence length: 1\n",
      "avg sequence length: 8.986515476555317\n"
     ]
    }
   ],
   "source": [
    "# summary\n",
    "seqlens_train = np.array([len(tokens) for tokens in train_tokens])\n",
    "print('=== Tokenized Training Corpus ===')\n",
    "print(f'# of vocab: {len(tokenizer.word_id)}')\n",
    "print(f'max sequence length: {seqlens_train.max()}')\n",
    "print(f'min sequence length: {seqlens_train.min()}')\n",
    "print(f'avg sequence length: {seqlens_train.mean()}\\n')\n",
    "\n",
    "seqlens_test = np.array([len(tokens) for tokens in test_tokens])\n",
    "print('=== Tokenized Testing Corpus ===')\n",
    "print(f'# of vocab: {len(tokenizer.word_id)}')\n",
    "print(f'max sequence length: {seqlens_test.max()}')\n",
    "print(f'min sequence length: {seqlens_test.min()}')\n",
    "print(f'avg sequence length: {seqlens_test.mean()}')"
   ]
  },
  {
   "cell_type": "code",
   "execution_count": 7,
   "metadata": {
    "scrolled": false
   },
   "outputs": [
    {
     "data": {
      "image/png": "[encoded data removed]",
      "text/plain": [
       "<Figure size 1440x576 with 2 Axes>"
      ]
     },
     "metadata": {
      "needs_background": "light"
     },
     "output_type": "display_data"
    }
   ],
   "source": [
    "plt.figure(figsize=(20, 8))\n",
    "palette = iter([plt.cm.Accent(i) for i in range(10)])\n",
    "\n",
    "plt.subplot(1, 2, 1)\n",
    "plt.hist(seqlens_train, range=(1, 21), color=next(palette))\n",
    "plt.title('Training Corpus Sequences Length Histogram', fontsize=16)\n",
    "\n",
    "plt.subplot(1, 2, 2)\n",
    "plt.hist(seqlens_test, range=(1, 21), color=next(palette))\n",
    "plt.title('Testing Corpus Sequences Length Histogram', fontsize=16)\n",
    "\n",
    "plt.show()"
   ]
  },
  {
   "cell_type": "markdown",
   "metadata": {
    "id": "-ERgREzX6yMO"
   },
   "source": [
    "## Embedding Matrix\n",
    "Now we read the pre-trained file and generate a weight matrix for our vocabulary."
   ]
  },
  {
   "cell_type": "code",
   "execution_count": 8,
   "metadata": {
    "id": "rNXS4GhymW17"
   },
   "outputs": [],
   "source": [
    "vocab, oov, weights = load_weights('data/glove.twitter.27B.100d.txt', tokenizer.word_id, init_weights='zeros')"
   ]
  },
  {
   "cell_type": "code",
   "execution_count": 9,
   "metadata": {},
   "outputs": [
    {
     "data": {
      "text/plain": [
       "(15719, 100)"
      ]
     },
     "execution_count": 9,
     "metadata": {},
     "output_type": "execute_result"
    }
   ],
   "source": [
    "weights.shape"
   ]
  },
  {
   "cell_type": "code",
   "execution_count": 10,
   "metadata": {},
   "outputs": [
    {
     "data": {
      "text/plain": [
       "11249"
      ]
     },
     "execution_count": 10,
     "metadata": {},
     "output_type": "execute_result"
    }
   ],
   "source": [
    "len(vocab)"
   ]
  },
  {
   "cell_type": "code",
   "execution_count": 11,
   "metadata": {
    "scrolled": true
   },
   "outputs": [
    {
     "data": {
      "text/plain": [
       "['åáåáåá',\n",
       " 'forbesasia',\n",
       " 'strawberrysoryu',\n",
       " 'dmassa5',\n",
       " 'nutsandboltssp',\n",
       " 'marymc21',\n",
       " 'king5seattle',\n",
       " 'husnaavhora',\n",
       " '÷devastated',\n",
       " 'radioriffrocks',\n",
       " 'setting4success',\n",
       " 'sympathyonlf',\n",
       " 'deetelecare',\n",
       " 'ptisalarkhan',\n",
       " 'keithboykin',\n",
       " 'mtvsummerstar',\n",
       " 'sequelae',\n",
       " 'ceciltownship',\n",
       " 'crptotech',\n",
       " 'godslove']"
      ]
     },
     "execution_count": 11,
     "metadata": {},
     "output_type": "execute_result"
    }
   ],
   "source": [
    "oov[:20]"
   ]
  },
  {
   "cell_type": "markdown",
   "metadata": {},
   "source": [
    "## Training LSTM Neural Network"
   ]
  },
  {
   "cell_type": "code",
   "execution_count": 12,
   "metadata": {},
   "outputs": [],
   "source": [
    "n_data = len(traindf)\n",
    "MAX_LEN = 22\n",
    "null_id = len(tokenizer.word_id) # the word id for pad_sequences value"
   ]
  },
  {
   "cell_type": "code",
   "execution_count": 13,
   "metadata": {},
   "outputs": [
    {
     "data": {
      "text/plain": [
       "(15720, 100)"
      ]
     },
     "execution_count": 13,
     "metadata": {},
     "output_type": "execute_result"
    }
   ],
   "source": [
    "# append the weight of null_id\n",
    "emb_weights = np.vstack((weights, np.zeros(shape=weights.shape[-1])))\n",
    "emb_weights.shape"
   ]
  },
  {
   "cell_type": "code",
   "execution_count": 22,
   "metadata": {},
   "outputs": [],
   "source": [
    "train_X = np.array(pad_sequences(tokenizer.encode(train_tokens), value=null_id, max_length=MAX_LEN))\n",
    "train_Y = traindf['target'].values.reshape(-1, 1)\n",
    "\n",
    "test_X = np.array(pad_sequences(tokenizer.encode(test_tokens), value=null_id, max_length=MAX_LEN))"
   ]
  },
  {
   "cell_type": "markdown",
   "metadata": {},
   "source": [
    "### From Scratch"
   ]
  },
  {
   "cell_type": "code",
   "execution_count": 17,
   "metadata": {},
   "outputs": [
    {
     "data": {
      "text/plain": [
       "Layers\t\t\tOutput Shape\n",
       "____________________________________\n",
       "Embedding_0:\t(22, 100)\n",
       "LSTM_0:\t\t\t(32,)\n",
       "Linear_0:\t\t(1,)\n",
       "Sigmoid:\t\t(1,)"
      ]
     },
     "execution_count": 17,
     "metadata": {},
     "output_type": "execute_result"
    }
   ],
   "source": [
    "# from scratch\n",
    "model = Model(loss=binary_cross_entropy, metric=BinaryAccuracy())\n",
    "emb_layer = Embedding(input_length=MAX_LEN, weights=emb_weights)\n",
    "lstm_layer = LSTM(units=32, \n",
    "                  weights_initializer=GlorotUniform(fan_in=100, fan_out=32, seed=0),\n",
    "                  state_weights_initializer=Orthogonal(seed=10))\n",
    "linear_layer = Linear(units=1, \n",
    "                      weights_initializer=GlorotUniform(fan_in=32, fan_out=1, seed=100))\n",
    "activation_layer = Activation(activator=sigmoid, name='Sigmoid')\n",
    "model.add_layer(emb_layer, lstm_layer, linear_layer, activation_layer)\n",
    "\n",
    "model"
   ]
  },
  {
   "cell_type": "code",
   "execution_count": 18,
   "metadata": {
    "scrolled": true
   },
   "outputs": [
    {
     "name": "stderr",
     "output_type": "stream",
     "text": [
      "epoch 0: 100%|=========================| 476/476 [00:25<00:00, 18.45it/s, accuracy=0.57, loss=0.686]\n",
      "epoch 1: 100%|========================| 476/476 [00:25<00:00, 18.47it/s, accuracy=0.598, loss=0.671]\n",
      "epoch 2: 100%|========================| 476/476 [00:26<00:00, 18.12it/s, accuracy=0.684, loss=0.622]\n",
      "epoch 3: 100%|========================| 476/476 [00:26<00:00, 18.15it/s, accuracy=0.724, loss=0.582]\n",
      "epoch 4: 100%|========================| 476/476 [00:26<00:00, 18.01it/s, accuracy=0.734, loss=0.566]\n",
      "epoch 5: 100%|========================| 476/476 [00:26<00:00, 18.13it/s, accuracy=0.755, loss=0.537]\n",
      "epoch 6: 100%|=========================| 476/476 [00:27<00:00, 17.59it/s, accuracy=0.752, loss=0.53]\n",
      "epoch 7: 100%|========================| 476/476 [00:26<00:00, 17.86it/s, accuracy=0.767, loss=0.512]\n",
      "epoch 8: 100%|========================| 476/476 [00:26<00:00, 17.73it/s, accuracy=0.765, loss=0.508]\n",
      "epoch 9: 100%|========================| 476/476 [00:26<00:00, 17.88it/s, accuracy=0.713, loss=0.567]\n",
      "epoch 10: 100%|=========================| 476/476 [00:26<00:00, 17.73it/s, accuracy=0.75, loss=0.52]\n",
      "epoch 11: 100%|=======================| 476/476 [00:26<00:00, 18.05it/s, accuracy=0.761, loss=0.498]\n",
      "epoch 12: 100%|=======================| 476/476 [00:25<00:00, 18.56it/s, accuracy=0.768, loss=0.482]\n",
      "epoch 13: 100%|=======================| 476/476 [00:27<00:00, 17.61it/s, accuracy=0.769, loss=0.477]\n",
      "epoch 14: 100%|========================| 476/476 [00:27<00:00, 17.38it/s, accuracy=0.779, loss=0.47]\n",
      "epoch 15: 100%|=======================| 476/476 [00:27<00:00, 17.49it/s, accuracy=0.786, loss=0.465]\n",
      "epoch 16: 100%|========================| 476/476 [00:26<00:00, 18.16it/s, accuracy=0.789, loss=0.46]\n",
      "epoch 17: 100%|========================| 476/476 [00:25<00:00, 18.39it/s, accuracy=0.79, loss=0.457]\n",
      "epoch 18: 100%|=======================| 476/476 [00:27<00:00, 17.13it/s, accuracy=0.792, loss=0.451]\n",
      "epoch 19: 100%|========================| 476/476 [00:28<00:00, 16.83it/s, accuracy=0.79, loss=0.454]\n"
     ]
    }
   ],
   "source": [
    "model.fit(train_X, train_Y, epochs=20, learning_rate=1e-3, batch_size=16)"
   ]
  },
  {
   "cell_type": "code",
   "execution_count": 19,
   "metadata": {
    "scrolled": true
   },
   "outputs": [
    {
     "data": {
      "text/plain": [
       "{'accuracy': 0.7906213056613687, 'loss': 0.4541987340173181}"
      ]
     },
     "execution_count": 19,
     "metadata": {},
     "output_type": "execute_result"
    }
   ],
   "source": [
    "# evaluate\n",
    "model.evaluate(train_X, train_Y)"
   ]
  },
  {
   "cell_type": "code",
   "execution_count": 32,
   "metadata": {},
   "outputs": [
    {
     "data": {
      "text/html": [
       "<div>\n",
       "<style scoped>\n",
       "    .dataframe tbody tr th:only-of-type {\n",
       "        vertical-align: middle;\n",
       "    }\n",
       "\n",
       "    .dataframe tbody tr th {\n",
       "        vertical-align: top;\n",
       "    }\n",
       "\n",
       "    .dataframe thead th {\n",
       "        text-align: right;\n",
       "    }\n",
       "</style>\n",
       "<table border=\"1\" class=\"dataframe\">\n",
       "  <thead>\n",
       "    <tr style=\"text-align: right;\">\n",
       "      <th></th>\n",
       "      <th>id</th>\n",
       "      <th>keyword</th>\n",
       "      <th>location</th>\n",
       "      <th>text</th>\n",
       "      <th>target</th>\n",
       "    </tr>\n",
       "  </thead>\n",
       "  <tbody>\n",
       "    <tr>\n",
       "      <th>0</th>\n",
       "      <td>0</td>\n",
       "      <td>NaN</td>\n",
       "      <td>NaN</td>\n",
       "      <td>Just happened a terrible car crash</td>\n",
       "      <td>0</td>\n",
       "    </tr>\n",
       "    <tr>\n",
       "      <th>1</th>\n",
       "      <td>2</td>\n",
       "      <td>NaN</td>\n",
       "      <td>NaN</td>\n",
       "      <td>Heard about #earthquake is different cities, s...</td>\n",
       "      <td>1</td>\n",
       "    </tr>\n",
       "    <tr>\n",
       "      <th>2</th>\n",
       "      <td>3</td>\n",
       "      <td>NaN</td>\n",
       "      <td>NaN</td>\n",
       "      <td>there is a forest fire at spot pond, geese are...</td>\n",
       "      <td>1</td>\n",
       "    </tr>\n",
       "    <tr>\n",
       "      <th>3</th>\n",
       "      <td>9</td>\n",
       "      <td>NaN</td>\n",
       "      <td>NaN</td>\n",
       "      <td>Apocalypse lighting. #Spokane #wildfires</td>\n",
       "      <td>1</td>\n",
       "    </tr>\n",
       "    <tr>\n",
       "      <th>4</th>\n",
       "      <td>11</td>\n",
       "      <td>NaN</td>\n",
       "      <td>NaN</td>\n",
       "      <td>Typhoon Soudelor kills 28 in China and Taiwan</td>\n",
       "      <td>1</td>\n",
       "    </tr>\n",
       "  </tbody>\n",
       "</table>\n",
       "</div>"
      ],
      "text/plain": [
       "   id keyword location                                               text  \\\n",
       "0   0     NaN      NaN                 Just happened a terrible car crash   \n",
       "1   2     NaN      NaN  Heard about #earthquake is different cities, s...   \n",
       "2   3     NaN      NaN  there is a forest fire at spot pond, geese are...   \n",
       "3   9     NaN      NaN           Apocalypse lighting. #Spokane #wildfires   \n",
       "4  11     NaN      NaN      Typhoon Soudelor kills 28 in China and Taiwan   \n",
       "\n",
       "   target  \n",
       "0       0  \n",
       "1       1  \n",
       "2       1  \n",
       "3       1  \n",
       "4       1  "
      ]
     },
     "execution_count": 32,
     "metadata": {},
     "output_type": "execute_result"
    }
   ],
   "source": [
    "test_Y_prob = model.predict(test_X)\n",
    "test_Y = (test_Y_prob > 0.5).astype(int)\n",
    "testdf['target'] = test_Y.flatten()\n",
    "testdf.head()"
   ]
  },
  {
   "cell_type": "code",
   "execution_count": 33,
   "metadata": {},
   "outputs": [
    {
     "data": {
      "text/html": [
       "<div>\n",
       "<style scoped>\n",
       "    .dataframe tbody tr th:only-of-type {\n",
       "        vertical-align: middle;\n",
       "    }\n",
       "\n",
       "    .dataframe tbody tr th {\n",
       "        vertical-align: top;\n",
       "    }\n",
       "\n",
       "    .dataframe thead th {\n",
       "        text-align: right;\n",
       "    }\n",
       "</style>\n",
       "<table border=\"1\" class=\"dataframe\">\n",
       "  <thead>\n",
       "    <tr style=\"text-align: right;\">\n",
       "      <th></th>\n",
       "      <th>id</th>\n",
       "      <th>target</th>\n",
       "    </tr>\n",
       "  </thead>\n",
       "  <tbody>\n",
       "    <tr>\n",
       "      <th>0</th>\n",
       "      <td>0</td>\n",
       "      <td>0</td>\n",
       "    </tr>\n",
       "    <tr>\n",
       "      <th>1</th>\n",
       "      <td>2</td>\n",
       "      <td>1</td>\n",
       "    </tr>\n",
       "    <tr>\n",
       "      <th>2</th>\n",
       "      <td>3</td>\n",
       "      <td>1</td>\n",
       "    </tr>\n",
       "    <tr>\n",
       "      <th>3</th>\n",
       "      <td>9</td>\n",
       "      <td>1</td>\n",
       "    </tr>\n",
       "    <tr>\n",
       "      <th>4</th>\n",
       "      <td>11</td>\n",
       "      <td>1</td>\n",
       "    </tr>\n",
       "    <tr>\n",
       "      <th>...</th>\n",
       "      <td>...</td>\n",
       "      <td>...</td>\n",
       "    </tr>\n",
       "    <tr>\n",
       "      <th>3258</th>\n",
       "      <td>10861</td>\n",
       "      <td>1</td>\n",
       "    </tr>\n",
       "    <tr>\n",
       "      <th>3259</th>\n",
       "      <td>10865</td>\n",
       "      <td>1</td>\n",
       "    </tr>\n",
       "    <tr>\n",
       "      <th>3260</th>\n",
       "      <td>10868</td>\n",
       "      <td>1</td>\n",
       "    </tr>\n",
       "    <tr>\n",
       "      <th>3261</th>\n",
       "      <td>10874</td>\n",
       "      <td>1</td>\n",
       "    </tr>\n",
       "    <tr>\n",
       "      <th>3262</th>\n",
       "      <td>10875</td>\n",
       "      <td>0</td>\n",
       "    </tr>\n",
       "  </tbody>\n",
       "</table>\n",
       "<p>3263 rows × 2 columns</p>\n",
       "</div>"
      ],
      "text/plain": [
       "         id  target\n",
       "0         0       0\n",
       "1         2       1\n",
       "2         3       1\n",
       "3         9       1\n",
       "4        11       1\n",
       "...     ...     ...\n",
       "3258  10861       1\n",
       "3259  10865       1\n",
       "3260  10868       1\n",
       "3261  10874       1\n",
       "3262  10875       0\n",
       "\n",
       "[3263 rows x 2 columns]"
      ]
     },
     "execution_count": 33,
     "metadata": {},
     "output_type": "execute_result"
    }
   ],
   "source": [
    "submission = testdf[['id', 'target']]\n",
    "submission"
   ]
  },
  {
   "cell_type": "code",
   "execution_count": 35,
   "metadata": {},
   "outputs": [],
   "source": [
    "submission.to_csv('submissions/submission_2021-12-14.csv', index=False)"
   ]
  },
  {
   "cell_type": "markdown",
   "metadata": {},
   "source": [
    "### Compare to Keras"
   ]
  },
  {
   "cell_type": "code",
   "execution_count": null,
   "metadata": {},
   "outputs": [],
   "source": []
  },
  {
   "cell_type": "markdown",
   "metadata": {
    "id": "S-aO4RZjqWSC"
   },
   "source": [
    "## References\n",
    "- [LSTM: A Search Space Odyssey](https://arxiv.org/abs/1503.04069v2)\n",
    "- [How LSTM solved vanishing gradients](https://medium.datadriveninvestor.com/how-do-lstm-networks-solve-the-problem-of-vanishing-gradients-a6784971a577)\n",
    "- [Stanford GloVe](https://nlp.stanford.edu/projects/glove/)\n",
    "- "
   ]
  }
 ],
 "metadata": {
  "colab": {
   "authorship_tag": "ABX9TyP5JzvMJU/CE9WdYMbsBYkL",
   "collapsed_sections": [],
   "mount_file_id": "1QVxtq_ioAapDpfkSLLG5523MrOB5jBE6",
   "name": "ML Final Project - Disaster Tweets.ipynb",
   "provenance": []
  },
  "kernelspec": {
   "display_name": "ml",
   "language": "python",
   "name": "ml"
  },
  "language_info": {
   "codemirror_mode": {
    "name": "ipython",
    "version": 3
   },
   "file_extension": ".py",
   "mimetype": "text/x-python",
   "name": "python",
   "nbconvert_exporter": "python",
   "pygments_lexer": "ipython3",
   "version": "3.9.7"
  },
  "widgets": {
   "application/vnd.jupyter.widget-state+json": {
    "01138a7f1a9940268648f742166f70ce": {
     "model_module": "@jupyter-widgets/controls",
     "model_module_version": "1.5.0",
     "model_name": "HTMLModel",
     "state": {
      "_dom_classes": [],
      "_model_module": "@jupyter-widgets/controls",
      "_model_module_version": "1.5.0",
      "_model_name": "HTMLModel",
      "_view_count": null,
      "_view_module": "@jupyter-widgets/controls",
      "_view_module_version": "1.5.0",
      "_view_name": "HTMLView",
      "description": "",
      "description_tooltip": null,
      "layout": "IPY_MODEL_94f48e279ef64d5bbb7bfe0a858c3223",
      "placeholder": "​",
      "style": "IPY_MODEL_ab7641dc7e42478bb7ffd810ed3f8a98",
      "value": "100%"
     }
    },
    "09bc6b14e71247aaa55f42610d61f1e7": {
     "model_module": "@jupyter-widgets/controls",
     "model_module_version": "1.5.0",
     "model_name": "HTMLModel",
     "state": {
      "_dom_classes": [],
      "_model_module": "@jupyter-widgets/controls",
      "_model_module_version": "1.5.0",
      "_model_name": "HTMLModel",
      "_view_count": null,
      "_view_module": "@jupyter-widgets/controls",
      "_view_module_version": "1.5.0",
      "_view_name": "HTMLView",
      "description": "",
      "description_tooltip": null,
      "layout": "IPY_MODEL_12753618f3884ace8640578ac897dafe",
      "placeholder": "​",
      "style": "IPY_MODEL_40e3597d45e945ec8a979376fb74c9b3",
      "value": " 142k/? [00:00&lt;00:00, 3.38MB/s]"
     }
    },
    "12753618f3884ace8640578ac897dafe": {
     "model_module": "@jupyter-widgets/base",
     "model_module_version": "1.2.0",
     "model_name": "LayoutModel",
     "state": {
      "_model_module": "@jupyter-widgets/base",
      "_model_module_version": "1.2.0",
      "_model_name": "LayoutModel",
      "_view_count": null,
      "_view_module": "@jupyter-widgets/base",
      "_view_module_version": "1.2.0",
      "_view_name": "LayoutView",
      "align_content": null,
      "align_items": null,
      "align_self": null,
      "border": null,
      "bottom": null,
      "display": null,
      "flex": null,
      "flex_flow": null,
      "grid_area": null,
      "grid_auto_columns": null,
      "grid_auto_flow": null,
      "grid_auto_rows": null,
      "grid_column": null,
      "grid_gap": null,
      "grid_row": null,
      "grid_template_areas": null,
      "grid_template_columns": null,
      "grid_template_rows": null,
      "height": null,
      "justify_content": null,
      "justify_items": null,
      "left": null,
      "margin": null,
      "max_height": null,
      "max_width": null,
      "min_height": null,
      "min_width": null,
      "object_fit": null,
      "object_position": null,
      "order": null,
      "overflow": null,
      "overflow_x": null,
      "overflow_y": null,
      "padding": null,
      "right": null,
      "top": null,
      "visibility": null,
      "width": null
     }
    },
    "150af8f7f0e4405a83760600c5c619bf": {
     "model_module": "@jupyter-widgets/controls",
     "model_module_version": "1.5.0",
     "model_name": "FloatProgressModel",
     "state": {
      "_dom_classes": [],
      "_model_module": "@jupyter-widgets/controls",
      "_model_module_version": "1.5.0",
      "_model_name": "FloatProgressModel",
      "_view_count": null,
      "_view_module": "@jupyter-widgets/controls",
      "_view_module_version": "1.5.0",
      "_view_name": "ProgressView",
      "bar_style": "success",
      "description": "",
      "description_tooltip": null,
      "layout": "IPY_MODEL_f21f0ca1cbd34cb3877381fc30027b23",
      "max": 7613,
      "min": 0,
      "orientation": "horizontal",
      "style": "IPY_MODEL_b99a67c5a8524f24b0ad516635bd7123",
      "value": 7613
     }
    },
    "1587c7929e4a48c3994b78a3a695344a": {
     "model_module": "@jupyter-widgets/controls",
     "model_module_version": "1.5.0",
     "model_name": "HBoxModel",
     "state": {
      "_dom_classes": [],
      "_model_module": "@jupyter-widgets/controls",
      "_model_module_version": "1.5.0",
      "_model_name": "HBoxModel",
      "_view_count": null,
      "_view_module": "@jupyter-widgets/controls",
      "_view_module_version": "1.5.0",
      "_view_name": "HBoxView",
      "box_style": "",
      "children": [
       "IPY_MODEL_01138a7f1a9940268648f742166f70ce",
       "IPY_MODEL_150af8f7f0e4405a83760600c5c619bf",
       "IPY_MODEL_39795bb036034696a4da0ace34c74377"
      ],
      "layout": "IPY_MODEL_5b65447936424a1ab6b9545cbd813776"
     }
    },
    "1a497ffef05a4c48b9c5db14619e8c2b": {
     "model_module": "@jupyter-widgets/controls",
     "model_module_version": "1.5.0",
     "model_name": "HTMLModel",
     "state": {
      "_dom_classes": [],
      "_model_module": "@jupyter-widgets/controls",
      "_model_module_version": "1.5.0",
      "_model_name": "HTMLModel",
      "_view_count": null,
      "_view_module": "@jupyter-widgets/controls",
      "_view_module_version": "1.5.0",
      "_view_name": "HTMLView",
      "description": "",
      "description_tooltip": null,
      "layout": "IPY_MODEL_23e49aa5450d41f197c300381e6e6b0d",
      "placeholder": "​",
      "style": "IPY_MODEL_f2e9d24e47684295a7770a1ff58499c5",
      "value": "Downloading https://raw.githubusercontent.com/stanfordnlp/stanza-resources/main/resources_1.3.0.json: "
     }
    },
    "23e49aa5450d41f197c300381e6e6b0d": {
     "model_module": "@jupyter-widgets/base",
     "model_module_version": "1.2.0",
     "model_name": "LayoutModel",
     "state": {
      "_model_module": "@jupyter-widgets/base",
      "_model_module_version": "1.2.0",
      "_model_name": "LayoutModel",
      "_view_count": null,
      "_view_module": "@jupyter-widgets/base",
      "_view_module_version": "1.2.0",
      "_view_name": "LayoutView",
      "align_content": null,
      "align_items": null,
      "align_self": null,
      "border": null,
      "bottom": null,
      "display": null,
      "flex": null,
      "flex_flow": null,
      "grid_area": null,
      "grid_auto_columns": null,
      "grid_auto_flow": null,
      "grid_auto_rows": null,
      "grid_column": null,
      "grid_gap": null,
      "grid_row": null,
      "grid_template_areas": null,
      "grid_template_columns": null,
      "grid_template_rows": null,
      "height": null,
      "justify_content": null,
      "justify_items": null,
      "left": null,
      "margin": null,
      "max_height": null,
      "max_width": null,
      "min_height": null,
      "min_width": null,
      "object_fit": null,
      "object_position": null,
      "order": null,
      "overflow": null,
      "overflow_x": null,
      "overflow_y": null,
      "padding": null,
      "right": null,
      "top": null,
      "visibility": null,
      "width": null
     }
    },
    "249e23037f914b9caf1935e3c0020517": {
     "model_module": "@jupyter-widgets/base",
     "model_module_version": "1.2.0",
     "model_name": "LayoutModel",
     "state": {
      "_model_module": "@jupyter-widgets/base",
      "_model_module_version": "1.2.0",
      "_model_name": "LayoutModel",
      "_view_count": null,
      "_view_module": "@jupyter-widgets/base",
      "_view_module_version": "1.2.0",
      "_view_name": "LayoutView",
      "align_content": null,
      "align_items": null,
      "align_self": null,
      "border": null,
      "bottom": null,
      "display": null,
      "flex": null,
      "flex_flow": null,
      "grid_area": null,
      "grid_auto_columns": null,
      "grid_auto_flow": null,
      "grid_auto_rows": null,
      "grid_column": null,
      "grid_gap": null,
      "grid_row": null,
      "grid_template_areas": null,
      "grid_template_columns": null,
      "grid_template_rows": null,
      "height": null,
      "justify_content": null,
      "justify_items": null,
      "left": null,
      "margin": null,
      "max_height": null,
      "max_width": null,
      "min_height": null,
      "min_width": null,
      "object_fit": null,
      "object_position": null,
      "order": null,
      "overflow": null,
      "overflow_x": null,
      "overflow_y": null,
      "padding": null,
      "right": null,
      "top": null,
      "visibility": null,
      "width": null
     }
    },
    "282ff2e2186346c8a6d5ec6604085fb8": {
     "model_module": "@jupyter-widgets/base",
     "model_module_version": "1.2.0",
     "model_name": "LayoutModel",
     "state": {
      "_model_module": "@jupyter-widgets/base",
      "_model_module_version": "1.2.0",
      "_model_name": "LayoutModel",
      "_view_count": null,
      "_view_module": "@jupyter-widgets/base",
      "_view_module_version": "1.2.0",
      "_view_name": "LayoutView",
      "align_content": null,
      "align_items": null,
      "align_self": null,
      "border": null,
      "bottom": null,
      "display": null,
      "flex": null,
      "flex_flow": null,
      "grid_area": null,
      "grid_auto_columns": null,
      "grid_auto_flow": null,
      "grid_auto_rows": null,
      "grid_column": null,
      "grid_gap": null,
      "grid_row": null,
      "grid_template_areas": null,
      "grid_template_columns": null,
      "grid_template_rows": null,
      "height": null,
      "justify_content": null,
      "justify_items": null,
      "left": null,
      "margin": null,
      "max_height": null,
      "max_width": null,
      "min_height": null,
      "min_width": null,
      "object_fit": null,
      "object_position": null,
      "order": null,
      "overflow": null,
      "overflow_x": null,
      "overflow_y": null,
      "padding": null,
      "right": null,
      "top": null,
      "visibility": null,
      "width": null
     }
    },
    "288e2c567415457da4acbda51b27a554": {
     "model_module": "@jupyter-widgets/controls",
     "model_module_version": "1.5.0",
     "model_name": "DescriptionStyleModel",
     "state": {
      "_model_module": "@jupyter-widgets/controls",
      "_model_module_version": "1.5.0",
      "_model_name": "DescriptionStyleModel",
      "_view_count": null,
      "_view_module": "@jupyter-widgets/base",
      "_view_module_version": "1.2.0",
      "_view_name": "StyleView",
      "description_width": ""
     }
    },
    "2e13cd14c017494abad7f3e9182f0156": {
     "model_module": "@jupyter-widgets/controls",
     "model_module_version": "1.5.0",
     "model_name": "ProgressStyleModel",
     "state": {
      "_model_module": "@jupyter-widgets/controls",
      "_model_module_version": "1.5.0",
      "_model_name": "ProgressStyleModel",
      "_view_count": null,
      "_view_module": "@jupyter-widgets/base",
      "_view_module_version": "1.2.0",
      "_view_name": "StyleView",
      "bar_color": null,
      "description_width": ""
     }
    },
    "314e121dccec4b0aba72bf8d0f9f9ed1": {
     "model_module": "@jupyter-widgets/controls",
     "model_module_version": "1.5.0",
     "model_name": "HTMLModel",
     "state": {
      "_dom_classes": [],
      "_model_module": "@jupyter-widgets/controls",
      "_model_module_version": "1.5.0",
      "_model_name": "HTMLModel",
      "_view_count": null,
      "_view_module": "@jupyter-widgets/controls",
      "_view_module_version": "1.5.0",
      "_view_name": "HTMLView",
      "description": "",
      "description_tooltip": null,
      "layout": "IPY_MODEL_282ff2e2186346c8a6d5ec6604085fb8",
      "placeholder": "​",
      "style": "IPY_MODEL_5511d82f051242c4afba3bacf8dcc775",
      "value": " 480M/480M [00:05&lt;00:00, 86.2MB/s]"
     }
    },
    "39795bb036034696a4da0ace34c74377": {
     "model_module": "@jupyter-widgets/controls",
     "model_module_version": "1.5.0",
     "model_name": "HTMLModel",
     "state": {
      "_dom_classes": [],
      "_model_module": "@jupyter-widgets/controls",
      "_model_module_version": "1.5.0",
      "_model_name": "HTMLModel",
      "_view_count": null,
      "_view_module": "@jupyter-widgets/controls",
      "_view_module_version": "1.5.0",
      "_view_name": "HTMLView",
      "description": "",
      "description_tooltip": null,
      "layout": "IPY_MODEL_83e775d2daf24c1581966416d4a7b966",
      "placeholder": "​",
      "style": "IPY_MODEL_288e2c567415457da4acbda51b27a554",
      "value": " 7613/7613 [03:26&lt;00:00, 34.24it/s]"
     }
    },
    "40e3597d45e945ec8a979376fb74c9b3": {
     "model_module": "@jupyter-widgets/controls",
     "model_module_version": "1.5.0",
     "model_name": "DescriptionStyleModel",
     "state": {
      "_model_module": "@jupyter-widgets/controls",
      "_model_module_version": "1.5.0",
      "_model_name": "DescriptionStyleModel",
      "_view_count": null,
      "_view_module": "@jupyter-widgets/base",
      "_view_module_version": "1.2.0",
      "_view_name": "StyleView",
      "description_width": ""
     }
    },
    "5511d82f051242c4afba3bacf8dcc775": {
     "model_module": "@jupyter-widgets/controls",
     "model_module_version": "1.5.0",
     "model_name": "DescriptionStyleModel",
     "state": {
      "_model_module": "@jupyter-widgets/controls",
      "_model_module_version": "1.5.0",
      "_model_name": "DescriptionStyleModel",
      "_view_count": null,
      "_view_module": "@jupyter-widgets/base",
      "_view_module_version": "1.2.0",
      "_view_name": "StyleView",
      "description_width": ""
     }
    },
    "58cd1930f8e04942bd39455220dfc7f1": {
     "model_module": "@jupyter-widgets/controls",
     "model_module_version": "1.5.0",
     "model_name": "HBoxModel",
     "state": {
      "_dom_classes": [],
      "_model_module": "@jupyter-widgets/controls",
      "_model_module_version": "1.5.0",
      "_model_name": "HBoxModel",
      "_view_count": null,
      "_view_module": "@jupyter-widgets/controls",
      "_view_module_version": "1.5.0",
      "_view_name": "HBoxView",
      "box_style": "",
      "children": [
       "IPY_MODEL_f0b9de1662ab417fb24952bff992f8a9",
       "IPY_MODEL_c85515c00ecf48a589732d9eac0e0fb4",
       "IPY_MODEL_314e121dccec4b0aba72bf8d0f9f9ed1"
      ],
      "layout": "IPY_MODEL_a68b8db514ed4f9a802702037095e45f"
     }
    },
    "58f95d371e134803b23c1d47eb0420b0": {
     "model_module": "@jupyter-widgets/base",
     "model_module_version": "1.2.0",
     "model_name": "LayoutModel",
     "state": {
      "_model_module": "@jupyter-widgets/base",
      "_model_module_version": "1.2.0",
      "_model_name": "LayoutModel",
      "_view_count": null,
      "_view_module": "@jupyter-widgets/base",
      "_view_module_version": "1.2.0",
      "_view_name": "LayoutView",
      "align_content": null,
      "align_items": null,
      "align_self": null,
      "border": null,
      "bottom": null,
      "display": null,
      "flex": null,
      "flex_flow": null,
      "grid_area": null,
      "grid_auto_columns": null,
      "grid_auto_flow": null,
      "grid_auto_rows": null,
      "grid_column": null,
      "grid_gap": null,
      "grid_row": null,
      "grid_template_areas": null,
      "grid_template_columns": null,
      "grid_template_rows": null,
      "height": null,
      "justify_content": null,
      "justify_items": null,
      "left": null,
      "margin": null,
      "max_height": null,
      "max_width": null,
      "min_height": null,
      "min_width": null,
      "object_fit": null,
      "object_position": null,
      "order": null,
      "overflow": null,
      "overflow_x": null,
      "overflow_y": null,
      "padding": null,
      "right": null,
      "top": null,
      "visibility": null,
      "width": null
     }
    },
    "5b65447936424a1ab6b9545cbd813776": {
     "model_module": "@jupyter-widgets/base",
     "model_module_version": "1.2.0",
     "model_name": "LayoutModel",
     "state": {
      "_model_module": "@jupyter-widgets/base",
      "_model_module_version": "1.2.0",
      "_model_name": "LayoutModel",
      "_view_count": null,
      "_view_module": "@jupyter-widgets/base",
      "_view_module_version": "1.2.0",
      "_view_name": "LayoutView",
      "align_content": null,
      "align_items": null,
      "align_self": null,
      "border": null,
      "bottom": null,
      "display": null,
      "flex": null,
      "flex_flow": null,
      "grid_area": null,
      "grid_auto_columns": null,
      "grid_auto_flow": null,
      "grid_auto_rows": null,
      "grid_column": null,
      "grid_gap": null,
      "grid_row": null,
      "grid_template_areas": null,
      "grid_template_columns": null,
      "grid_template_rows": null,
      "height": null,
      "justify_content": null,
      "justify_items": null,
      "left": null,
      "margin": null,
      "max_height": null,
      "max_width": null,
      "min_height": null,
      "min_width": null,
      "object_fit": null,
      "object_position": null,
      "order": null,
      "overflow": null,
      "overflow_x": null,
      "overflow_y": null,
      "padding": null,
      "right": null,
      "top": null,
      "visibility": null,
      "width": null
     }
    },
    "83e775d2daf24c1581966416d4a7b966": {
     "model_module": "@jupyter-widgets/base",
     "model_module_version": "1.2.0",
     "model_name": "LayoutModel",
     "state": {
      "_model_module": "@jupyter-widgets/base",
      "_model_module_version": "1.2.0",
      "_model_name": "LayoutModel",
      "_view_count": null,
      "_view_module": "@jupyter-widgets/base",
      "_view_module_version": "1.2.0",
      "_view_name": "LayoutView",
      "align_content": null,
      "align_items": null,
      "align_self": null,
      "border": null,
      "bottom": null,
      "display": null,
      "flex": null,
      "flex_flow": null,
      "grid_area": null,
      "grid_auto_columns": null,
      "grid_auto_flow": null,
      "grid_auto_rows": null,
      "grid_column": null,
      "grid_gap": null,
      "grid_row": null,
      "grid_template_areas": null,
      "grid_template_columns": null,
      "grid_template_rows": null,
      "height": null,
      "justify_content": null,
      "justify_items": null,
      "left": null,
      "margin": null,
      "max_height": null,
      "max_width": null,
      "min_height": null,
      "min_width": null,
      "object_fit": null,
      "object_position": null,
      "order": null,
      "overflow": null,
      "overflow_x": null,
      "overflow_y": null,
      "padding": null,
      "right": null,
      "top": null,
      "visibility": null,
      "width": null
     }
    },
    "8d22df54d66144d591aa135a018abd95": {
     "model_module": "@jupyter-widgets/controls",
     "model_module_version": "1.5.0",
     "model_name": "FloatProgressModel",
     "state": {
      "_dom_classes": [],
      "_model_module": "@jupyter-widgets/controls",
      "_model_module_version": "1.5.0",
      "_model_name": "FloatProgressModel",
      "_view_count": null,
      "_view_module": "@jupyter-widgets/controls",
      "_view_module_version": "1.5.0",
      "_view_name": "ProgressView",
      "bar_style": "success",
      "description": "",
      "description_tooltip": null,
      "layout": "IPY_MODEL_f848f1f25574466080d577174cfbe729",
      "max": 24459,
      "min": 0,
      "orientation": "horizontal",
      "style": "IPY_MODEL_2e13cd14c017494abad7f3e9182f0156",
      "value": 24459
     }
    },
    "938cb1e27cd8430fab4eb3e4fb794bce": {
     "model_module": "@jupyter-widgets/base",
     "model_module_version": "1.2.0",
     "model_name": "LayoutModel",
     "state": {
      "_model_module": "@jupyter-widgets/base",
      "_model_module_version": "1.2.0",
      "_model_name": "LayoutModel",
      "_view_count": null,
      "_view_module": "@jupyter-widgets/base",
      "_view_module_version": "1.2.0",
      "_view_name": "LayoutView",
      "align_content": null,
      "align_items": null,
      "align_self": null,
      "border": null,
      "bottom": null,
      "display": null,
      "flex": null,
      "flex_flow": null,
      "grid_area": null,
      "grid_auto_columns": null,
      "grid_auto_flow": null,
      "grid_auto_rows": null,
      "grid_column": null,
      "grid_gap": null,
      "grid_row": null,
      "grid_template_areas": null,
      "grid_template_columns": null,
      "grid_template_rows": null,
      "height": null,
      "justify_content": null,
      "justify_items": null,
      "left": null,
      "margin": null,
      "max_height": null,
      "max_width": null,
      "min_height": null,
      "min_width": null,
      "object_fit": null,
      "object_position": null,
      "order": null,
      "overflow": null,
      "overflow_x": null,
      "overflow_y": null,
      "padding": null,
      "right": null,
      "top": null,
      "visibility": null,
      "width": null
     }
    },
    "94f48e279ef64d5bbb7bfe0a858c3223": {
     "model_module": "@jupyter-widgets/base",
     "model_module_version": "1.2.0",
     "model_name": "LayoutModel",
     "state": {
      "_model_module": "@jupyter-widgets/base",
      "_model_module_version": "1.2.0",
      "_model_name": "LayoutModel",
      "_view_count": null,
      "_view_module": "@jupyter-widgets/base",
      "_view_module_version": "1.2.0",
      "_view_name": "LayoutView",
      "align_content": null,
      "align_items": null,
      "align_self": null,
      "border": null,
      "bottom": null,
      "display": null,
      "flex": null,
      "flex_flow": null,
      "grid_area": null,
      "grid_auto_columns": null,
      "grid_auto_flow": null,
      "grid_auto_rows": null,
      "grid_column": null,
      "grid_gap": null,
      "grid_row": null,
      "grid_template_areas": null,
      "grid_template_columns": null,
      "grid_template_rows": null,
      "height": null,
      "justify_content": null,
      "justify_items": null,
      "left": null,
      "margin": null,
      "max_height": null,
      "max_width": null,
      "min_height": null,
      "min_width": null,
      "object_fit": null,
      "object_position": null,
      "order": null,
      "overflow": null,
      "overflow_x": null,
      "overflow_y": null,
      "padding": null,
      "right": null,
      "top": null,
      "visibility": null,
      "width": null
     }
    },
    "a68b8db514ed4f9a802702037095e45f": {
     "model_module": "@jupyter-widgets/base",
     "model_module_version": "1.2.0",
     "model_name": "LayoutModel",
     "state": {
      "_model_module": "@jupyter-widgets/base",
      "_model_module_version": "1.2.0",
      "_model_name": "LayoutModel",
      "_view_count": null,
      "_view_module": "@jupyter-widgets/base",
      "_view_module_version": "1.2.0",
      "_view_name": "LayoutView",
      "align_content": null,
      "align_items": null,
      "align_self": null,
      "border": null,
      "bottom": null,
      "display": null,
      "flex": null,
      "flex_flow": null,
      "grid_area": null,
      "grid_auto_columns": null,
      "grid_auto_flow": null,
      "grid_auto_rows": null,
      "grid_column": null,
      "grid_gap": null,
      "grid_row": null,
      "grid_template_areas": null,
      "grid_template_columns": null,
      "grid_template_rows": null,
      "height": null,
      "justify_content": null,
      "justify_items": null,
      "left": null,
      "margin": null,
      "max_height": null,
      "max_width": null,
      "min_height": null,
      "min_width": null,
      "object_fit": null,
      "object_position": null,
      "order": null,
      "overflow": null,
      "overflow_x": null,
      "overflow_y": null,
      "padding": null,
      "right": null,
      "top": null,
      "visibility": null,
      "width": null
     }
    },
    "ab7641dc7e42478bb7ffd810ed3f8a98": {
     "model_module": "@jupyter-widgets/controls",
     "model_module_version": "1.5.0",
     "model_name": "DescriptionStyleModel",
     "state": {
      "_model_module": "@jupyter-widgets/controls",
      "_model_module_version": "1.5.0",
      "_model_name": "DescriptionStyleModel",
      "_view_count": null,
      "_view_module": "@jupyter-widgets/base",
      "_view_module_version": "1.2.0",
      "_view_name": "StyleView",
      "description_width": ""
     }
    },
    "b99a67c5a8524f24b0ad516635bd7123": {
     "model_module": "@jupyter-widgets/controls",
     "model_module_version": "1.5.0",
     "model_name": "ProgressStyleModel",
     "state": {
      "_model_module": "@jupyter-widgets/controls",
      "_model_module_version": "1.5.0",
      "_model_name": "ProgressStyleModel",
      "_view_count": null,
      "_view_module": "@jupyter-widgets/base",
      "_view_module_version": "1.2.0",
      "_view_name": "StyleView",
      "bar_color": null,
      "description_width": ""
     }
    },
    "c85515c00ecf48a589732d9eac0e0fb4": {
     "model_module": "@jupyter-widgets/controls",
     "model_module_version": "1.5.0",
     "model_name": "FloatProgressModel",
     "state": {
      "_dom_classes": [],
      "_model_module": "@jupyter-widgets/controls",
      "_model_module_version": "1.5.0",
      "_model_name": "FloatProgressModel",
      "_view_count": null,
      "_view_module": "@jupyter-widgets/controls",
      "_view_module_version": "1.5.0",
      "_view_name": "ProgressView",
      "bar_style": "success",
      "description": "",
      "description_tooltip": null,
      "layout": "IPY_MODEL_58f95d371e134803b23c1d47eb0420b0",
      "max": 479531529,
      "min": 0,
      "orientation": "horizontal",
      "style": "IPY_MODEL_cad12df8b04246f6a8966a3b0fa5a72a",
      "value": 479531529
     }
    },
    "cad12df8b04246f6a8966a3b0fa5a72a": {
     "model_module": "@jupyter-widgets/controls",
     "model_module_version": "1.5.0",
     "model_name": "ProgressStyleModel",
     "state": {
      "_model_module": "@jupyter-widgets/controls",
      "_model_module_version": "1.5.0",
      "_model_name": "ProgressStyleModel",
      "_view_count": null,
      "_view_module": "@jupyter-widgets/base",
      "_view_module_version": "1.2.0",
      "_view_name": "StyleView",
      "bar_color": null,
      "description_width": ""
     }
    },
    "ddcc638936554336b77e712de937b1a8": {
     "model_module": "@jupyter-widgets/controls",
     "model_module_version": "1.5.0",
     "model_name": "DescriptionStyleModel",
     "state": {
      "_model_module": "@jupyter-widgets/controls",
      "_model_module_version": "1.5.0",
      "_model_name": "DescriptionStyleModel",
      "_view_count": null,
      "_view_module": "@jupyter-widgets/base",
      "_view_module_version": "1.2.0",
      "_view_name": "StyleView",
      "description_width": ""
     }
    },
    "e4bd58c5d49a419798725d66c3bb9f78": {
     "model_module": "@jupyter-widgets/controls",
     "model_module_version": "1.5.0",
     "model_name": "HBoxModel",
     "state": {
      "_dom_classes": [],
      "_model_module": "@jupyter-widgets/controls",
      "_model_module_version": "1.5.0",
      "_model_name": "HBoxModel",
      "_view_count": null,
      "_view_module": "@jupyter-widgets/controls",
      "_view_module_version": "1.5.0",
      "_view_name": "HBoxView",
      "box_style": "",
      "children": [
       "IPY_MODEL_1a497ffef05a4c48b9c5db14619e8c2b",
       "IPY_MODEL_8d22df54d66144d591aa135a018abd95",
       "IPY_MODEL_09bc6b14e71247aaa55f42610d61f1e7"
      ],
      "layout": "IPY_MODEL_938cb1e27cd8430fab4eb3e4fb794bce"
     }
    },
    "f0b9de1662ab417fb24952bff992f8a9": {
     "model_module": "@jupyter-widgets/controls",
     "model_module_version": "1.5.0",
     "model_name": "HTMLModel",
     "state": {
      "_dom_classes": [],
      "_model_module": "@jupyter-widgets/controls",
      "_model_module_version": "1.5.0",
      "_model_name": "HTMLModel",
      "_view_count": null,
      "_view_module": "@jupyter-widgets/controls",
      "_view_module_version": "1.5.0",
      "_view_name": "HTMLView",
      "description": "",
      "description_tooltip": null,
      "layout": "IPY_MODEL_249e23037f914b9caf1935e3c0020517",
      "placeholder": "​",
      "style": "IPY_MODEL_ddcc638936554336b77e712de937b1a8",
      "value": "Downloading https://huggingface.co/stanfordnlp/stanza-en/resolve/v1.3.0/models/default.zip: 100%"
     }
    },
    "f21f0ca1cbd34cb3877381fc30027b23": {
     "model_module": "@jupyter-widgets/base",
     "model_module_version": "1.2.0",
     "model_name": "LayoutModel",
     "state": {
      "_model_module": "@jupyter-widgets/base",
      "_model_module_version": "1.2.0",
      "_model_name": "LayoutModel",
      "_view_count": null,
      "_view_module": "@jupyter-widgets/base",
      "_view_module_version": "1.2.0",
      "_view_name": "LayoutView",
      "align_content": null,
      "align_items": null,
      "align_self": null,
      "border": null,
      "bottom": null,
      "display": null,
      "flex": null,
      "flex_flow": null,
      "grid_area": null,
      "grid_auto_columns": null,
      "grid_auto_flow": null,
      "grid_auto_rows": null,
      "grid_column": null,
      "grid_gap": null,
      "grid_row": null,
      "grid_template_areas": null,
      "grid_template_columns": null,
      "grid_template_rows": null,
      "height": null,
      "justify_content": null,
      "justify_items": null,
      "left": null,
      "margin": null,
      "max_height": null,
      "max_width": null,
      "min_height": null,
      "min_width": null,
      "object_fit": null,
      "object_position": null,
      "order": null,
      "overflow": null,
      "overflow_x": null,
      "overflow_y": null,
      "padding": null,
      "right": null,
      "top": null,
      "visibility": null,
      "width": null
     }
    },
    "f2e9d24e47684295a7770a1ff58499c5": {
     "model_module": "@jupyter-widgets/controls",
     "model_module_version": "1.5.0",
     "model_name": "DescriptionStyleModel",
     "state": {
      "_model_module": "@jupyter-widgets/controls",
      "_model_module_version": "1.5.0",
      "_model_name": "DescriptionStyleModel",
      "_view_count": null,
      "_view_module": "@jupyter-widgets/base",
      "_view_module_version": "1.2.0",
      "_view_name": "StyleView",
      "description_width": ""
     }
    },
    "f848f1f25574466080d577174cfbe729": {
     "model_module": "@jupyter-widgets/base",
     "model_module_version": "1.2.0",
     "model_name": "LayoutModel",
     "state": {
      "_model_module": "@jupyter-widgets/base",
      "_model_module_version": "1.2.0",
      "_model_name": "LayoutModel",
      "_view_count": null,
      "_view_module": "@jupyter-widgets/base",
      "_view_module_version": "1.2.0",
      "_view_name": "LayoutView",
      "align_content": null,
      "align_items": null,
      "align_self": null,
      "border": null,
      "bottom": null,
      "display": null,
      "flex": null,
      "flex_flow": null,
      "grid_area": null,
      "grid_auto_columns": null,
      "grid_auto_flow": null,
      "grid_auto_rows": null,
      "grid_column": null,
      "grid_gap": null,
      "grid_row": null,
      "grid_template_areas": null,
      "grid_template_columns": null,
      "grid_template_rows": null,
      "height": null,
      "justify_content": null,
      "justify_items": null,
      "left": null,
      "margin": null,
      "max_height": null,
      "max_width": null,
      "min_height": null,
      "min_width": null,
      "object_fit": null,
      "object_position": null,
      "order": null,
      "overflow": null,
      "overflow_x": null,
      "overflow_y": null,
      "padding": null,
      "right": null,
      "top": null,
      "visibility": null,
      "width": null
     }
    }
   }
  }
 },
 "nbformat": 4,
 "nbformat_minor": 1
}
